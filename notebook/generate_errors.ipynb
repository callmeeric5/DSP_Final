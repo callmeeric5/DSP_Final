{
 "cells": [
  {
   "cell_type": "code",
   "execution_count": 1,
   "id": "initial_id",
   "metadata": {
    "collapsed": true,
    "ExecuteTime": {
     "end_time": "2024-04-14T19:00:53.762973Z",
     "start_time": "2024-04-14T19:00:53.233216Z"
    }
   },
   "outputs": [],
   "source": [
    "import pandas as pd\n",
    "import numpy as np\n",
    "\n",
    "\n",
    "# Load the raw data\n",
    "raw_data_copy = pd.read_csv(\"../data_raw/test.csv\")\n"
   ]
  },
  {
   "cell_type": "markdown",
   "source": [
    "### Missing values in a required column"
   ],
   "metadata": {
    "collapsed": false
   },
   "id": "1649833177daa7ca"
  },
  {
   "cell_type": "code",
   "outputs": [
    {
     "data": {
      "text/plain": "0    NaN\n2    NaN\n4    NaN\n6    NaN\n8    NaN\n10   NaN\n12   NaN\n14   NaN\n16   NaN\n18   NaN\nName: Product_Category_1, dtype: float64"
     },
     "execution_count": 2,
     "metadata": {},
     "output_type": "execute_result"
    }
   ],
   "source": [
    "raw_data_copy.loc[::2, \"Product_Category_1\"] = np.nan\n",
    "raw_data_copy.loc[::2, \"Product_Category_1\"][:10]"
   ],
   "metadata": {
    "collapsed": false,
    "ExecuteTime": {
     "end_time": "2024-04-14T19:00:53.769762Z",
     "start_time": "2024-04-14T19:00:53.764298Z"
    }
   },
   "id": "514bde0913489802",
   "execution_count": 2
  },
  {
   "cell_type": "markdown",
   "source": [
    "### Unknown values for a given feature"
   ],
   "metadata": {
    "collapsed": false
   },
   "id": "5858cec70765ae59"
  },
  {
   "cell_type": "code",
   "outputs": [
    {
     "data": {
      "text/plain": "0     Unknown\n6     Unknown\n12    Unknown\n18    Unknown\n24    Unknown\n30    Unknown\n36    Unknown\n42    Unknown\n48    Unknown\n54    Unknown\nName: City_Category, dtype: object"
     },
     "execution_count": 3,
     "metadata": {},
     "output_type": "execute_result"
    }
   ],
   "source": [
    "raw_data_copy.loc[::6, \"City_Category\"] = \"Unknown\"\n",
    "raw_data_copy.loc[::6, \"City_Category\"][:10]"
   ],
   "metadata": {
    "collapsed": false,
    "ExecuteTime": {
     "end_time": "2024-04-14T19:00:53.775492Z",
     "start_time": "2024-04-14T19:00:53.770427Z"
    }
   },
   "id": "8b4518bdf5487ef8",
   "execution_count": 3
  },
  {
   "cell_type": "markdown",
   "source": [
    "### Wrong value for a given feature"
   ],
   "metadata": {
    "collapsed": false
   },
   "id": "e386bedd30f63a6e"
  },
  {
   "cell_type": "code",
   "outputs": [
    {
     "data": {
      "text/plain": "0     999\n8     999\n16    999\n24    999\n32    999\n40    999\n48    999\n56    999\n64    999\n72    999\nName: Age, dtype: object"
     },
     "execution_count": 4,
     "metadata": {},
     "output_type": "execute_result"
    }
   ],
   "source": [
    "raw_data_copy.loc[::8, \"Age\"] = 999\n",
    "raw_data_copy.loc[::8, \"Age\"][:10]"
   ],
   "metadata": {
    "collapsed": false,
    "ExecuteTime": {
     "end_time": "2024-04-14T19:00:53.781834Z",
     "start_time": "2024-04-14T19:00:53.776375Z"
    }
   },
   "id": "574aee8c6155215c",
   "execution_count": 4
  },
  {
   "cell_type": "markdown",
   "source": [
    "### String value in a numerical column"
   ],
   "metadata": {
    "collapsed": false
   },
   "id": "71698008ac2800d0"
  },
  {
   "cell_type": "code",
   "outputs": [
    {
     "name": "stderr",
     "output_type": "stream",
     "text": [
      "/var/folders/_c/p1x36y5n3dv4rpm9sgpjv0z00000gn/T/ipykernel_56741/2216374589.py:1: FutureWarning: Setting an item of incompatible dtype is deprecated and will raise in a future error of pandas. Value 'abc' has dtype incompatible with float64, please explicitly cast to a compatible dtype first.\n",
      "  raw_data_copy.loc[::20, \"Product_Category_3\"] = 'abc'\n"
     ]
    },
    {
     "data": {
      "text/plain": "0         abc\n20        abc\n40        abc\n60        abc\n80        abc\n         ... \n233500    abc\n233520    abc\n233540    abc\n233560    abc\n233580    abc\nName: Product_Category_3, Length: 11680, dtype: object"
     },
     "execution_count": 5,
     "metadata": {},
     "output_type": "execute_result"
    }
   ],
   "source": [
    "raw_data_copy.loc[::20, \"Product_Category_3\"] = 'abc'\n",
    "raw_data_copy.loc[::20, \"Product_Category_3\"] "
   ],
   "metadata": {
    "collapsed": false,
    "ExecuteTime": {
     "end_time": "2024-04-14T19:00:53.792956Z",
     "start_time": "2024-04-14T19:00:53.783962Z"
    }
   },
   "id": "989b21ffb4efdfb6",
   "execution_count": 5
  },
  {
   "cell_type": "markdown",
   "source": [
    "### A required feature is missing"
   ],
   "metadata": {
    "collapsed": false
   },
   "id": "23fb265000886b51"
  },
  {
   "cell_type": "code",
   "outputs": [],
   "source": [
    "raw_data_copy.loc[::10,'Gender']=np.nan\n"
   ],
   "metadata": {
    "collapsed": false,
    "ExecuteTime": {
     "end_time": "2024-04-14T19:00:53.797100Z",
     "start_time": "2024-04-14T19:00:53.793909Z"
    }
   },
   "id": "86fbc3c9e971dc27",
   "execution_count": 6
  },
  {
   "cell_type": "markdown",
   "source": [
    "### Duplicate rows"
   ],
   "metadata": {
    "collapsed": false
   },
   "id": "64757d43e7173aa6"
  },
  {
   "cell_type": "code",
   "outputs": [
    {
     "data": {
      "text/plain": "        User_ID Product_ID Gender    Age  Occupation City_Category  \\\n15      1000029  P00111542      M  36-45           7             C   \n3796    1000029  P00177542      M  36-45           7             C   \n11670   1000029  P00193542    NaN  36-45           7       Unknown   \n15559   1000029  P00034042      M  36-45           7             C   \n39047   1000029  P00116142      M  36-45           7             C   \n50653   1000029   P0097242      M  36-45           7             C   \n54545   1000029  P00070042      M  36-45           7             C   \n58366   1000029  P00128942      M  36-45           7             C   \n58367   1000029  P00044442      M  36-45           7             C   \n62201   1000029  P00114942      M  36-45           7             C   \n66244   1000029  P00115142      M  36-45           7             C   \n70223   1000029  P00288742      M  36-45           7             C   \n85767   1000029  P00241642      M  36-45           7             C   \n93466   1000029  P00284842      M  36-45           7             C   \n124610  1000029  P00217142    NaN  36-45           7             C   \n128527  1000029  P00113642      M  36-45           7             C   \n128528  1000029  P00005042      M    999           7             C   \n128529  1000029  P00127642      M  36-45           7             C   \n144329  1000029  P00028042      M  36-45           7             C   \n144330  1000029  P00297842    NaN  36-45           7       Unknown   \n148238  1000029  P00346142      M  36-45           7             C   \n148239  1000029  P00348542      M  36-45           7             C   \n152070  1000029  P00162042    NaN  36-45           7       Unknown   \n155919  1000029  P00359242      M  36-45           7             C   \n167423  1000029  P00147942      M  36-45           7             C   \n167424  1000029  P00090942      M    999           7       Unknown   \n175253  1000029  P00113242      M  36-45           7             C   \n179237  1000029  P00237542      M  36-45           7             C   \n179238  1000029  P00341342      M  36-45           7       Unknown   \n179239  1000029  P00034442      M  36-45           7             C   \n233600  1000029  P00111542      M  36-45           7             C   \n\n       Stay_In_Current_City_Years  Marital_Status  Product_Category_1  \\\n15                              1               0                 2.0   \n3796                            1               0                 NaN   \n11670                           1               0                 NaN   \n15559                           1               0                 1.0   \n39047                           1               0                10.0   \n50653                           1               0                 1.0   \n54545                           1               0                 1.0   \n58366                           1               0                 NaN   \n58367                           1               0                 1.0   \n62201                           1               0                 1.0   \n66244                           1               0                 NaN   \n70223                           1               0                16.0   \n85767                           1               0                 1.0   \n93466                           1               0                 NaN   \n124610                          1               0                 NaN   \n128527                          1               0                 8.0   \n128528                          1               0                 NaN   \n128529                          1               0                 1.0   \n144329                          1               0                 1.0   \n144330                          1               0                 NaN   \n148238                          1               0                 NaN   \n148239                          1               0                 1.0   \n152070                          1               0                 NaN   \n155919                          1               0                 1.0   \n167423                          1               0                 1.0   \n167424                          1               0                 NaN   \n175253                          1               0                 1.0   \n179237                          1               0                 1.0   \n179238                          1               0                 NaN   \n179239                          1               0                 1.0   \n233600                          1               0                 2.0   \n\n        Product_Category_2 Product_Category_3  \n15                    17.0                NaN  \n3796                   8.0                NaN  \n11670                  2.0                NaN  \n15559                  2.0               16.0  \n39047                 13.0               16.0  \n50653                 16.0                NaN  \n54545                  2.0               16.0  \n58366                 11.0                NaN  \n58367                 16.0                NaN  \n62201                 15.0               16.0  \n66244                  8.0               17.0  \n70223                  NaN                NaN  \n85767                  2.0               11.0  \n93466                  8.0               17.0  \n124610                15.0                NaN  \n128527                 NaN                NaN  \n128528                16.0                NaN  \n128529                 2.0               15.0  \n144329                16.0                NaN  \n144330                 NaN                NaN  \n148238                15.0                NaN  \n148239                16.0                NaN  \n152070                 6.0                NaN  \n155919                 5.0               17.0  \n167423                16.0                NaN  \n167424                 2.0               14.0  \n175253                 6.0                8.0  \n179237                15.0               16.0  \n179238                 8.0               17.0  \n179239                14.0               16.0  \n233600                17.0                NaN  ",
      "text/html": "<div>\n<style scoped>\n    .dataframe tbody tr th:only-of-type {\n        vertical-align: middle;\n    }\n\n    .dataframe tbody tr th {\n        vertical-align: top;\n    }\n\n    .dataframe thead th {\n        text-align: right;\n    }\n</style>\n<table border=\"1\" class=\"dataframe\">\n  <thead>\n    <tr style=\"text-align: right;\">\n      <th></th>\n      <th>User_ID</th>\n      <th>Product_ID</th>\n      <th>Gender</th>\n      <th>Age</th>\n      <th>Occupation</th>\n      <th>City_Category</th>\n      <th>Stay_In_Current_City_Years</th>\n      <th>Marital_Status</th>\n      <th>Product_Category_1</th>\n      <th>Product_Category_2</th>\n      <th>Product_Category_3</th>\n    </tr>\n  </thead>\n  <tbody>\n    <tr>\n      <th>15</th>\n      <td>1000029</td>\n      <td>P00111542</td>\n      <td>M</td>\n      <td>36-45</td>\n      <td>7</td>\n      <td>C</td>\n      <td>1</td>\n      <td>0</td>\n      <td>2.0</td>\n      <td>17.0</td>\n      <td>NaN</td>\n    </tr>\n    <tr>\n      <th>3796</th>\n      <td>1000029</td>\n      <td>P00177542</td>\n      <td>M</td>\n      <td>36-45</td>\n      <td>7</td>\n      <td>C</td>\n      <td>1</td>\n      <td>0</td>\n      <td>NaN</td>\n      <td>8.0</td>\n      <td>NaN</td>\n    </tr>\n    <tr>\n      <th>11670</th>\n      <td>1000029</td>\n      <td>P00193542</td>\n      <td>NaN</td>\n      <td>36-45</td>\n      <td>7</td>\n      <td>Unknown</td>\n      <td>1</td>\n      <td>0</td>\n      <td>NaN</td>\n      <td>2.0</td>\n      <td>NaN</td>\n    </tr>\n    <tr>\n      <th>15559</th>\n      <td>1000029</td>\n      <td>P00034042</td>\n      <td>M</td>\n      <td>36-45</td>\n      <td>7</td>\n      <td>C</td>\n      <td>1</td>\n      <td>0</td>\n      <td>1.0</td>\n      <td>2.0</td>\n      <td>16.0</td>\n    </tr>\n    <tr>\n      <th>39047</th>\n      <td>1000029</td>\n      <td>P00116142</td>\n      <td>M</td>\n      <td>36-45</td>\n      <td>7</td>\n      <td>C</td>\n      <td>1</td>\n      <td>0</td>\n      <td>10.0</td>\n      <td>13.0</td>\n      <td>16.0</td>\n    </tr>\n    <tr>\n      <th>50653</th>\n      <td>1000029</td>\n      <td>P0097242</td>\n      <td>M</td>\n      <td>36-45</td>\n      <td>7</td>\n      <td>C</td>\n      <td>1</td>\n      <td>0</td>\n      <td>1.0</td>\n      <td>16.0</td>\n      <td>NaN</td>\n    </tr>\n    <tr>\n      <th>54545</th>\n      <td>1000029</td>\n      <td>P00070042</td>\n      <td>M</td>\n      <td>36-45</td>\n      <td>7</td>\n      <td>C</td>\n      <td>1</td>\n      <td>0</td>\n      <td>1.0</td>\n      <td>2.0</td>\n      <td>16.0</td>\n    </tr>\n    <tr>\n      <th>58366</th>\n      <td>1000029</td>\n      <td>P00128942</td>\n      <td>M</td>\n      <td>36-45</td>\n      <td>7</td>\n      <td>C</td>\n      <td>1</td>\n      <td>0</td>\n      <td>NaN</td>\n      <td>11.0</td>\n      <td>NaN</td>\n    </tr>\n    <tr>\n      <th>58367</th>\n      <td>1000029</td>\n      <td>P00044442</td>\n      <td>M</td>\n      <td>36-45</td>\n      <td>7</td>\n      <td>C</td>\n      <td>1</td>\n      <td>0</td>\n      <td>1.0</td>\n      <td>16.0</td>\n      <td>NaN</td>\n    </tr>\n    <tr>\n      <th>62201</th>\n      <td>1000029</td>\n      <td>P00114942</td>\n      <td>M</td>\n      <td>36-45</td>\n      <td>7</td>\n      <td>C</td>\n      <td>1</td>\n      <td>0</td>\n      <td>1.0</td>\n      <td>15.0</td>\n      <td>16.0</td>\n    </tr>\n    <tr>\n      <th>66244</th>\n      <td>1000029</td>\n      <td>P00115142</td>\n      <td>M</td>\n      <td>36-45</td>\n      <td>7</td>\n      <td>C</td>\n      <td>1</td>\n      <td>0</td>\n      <td>NaN</td>\n      <td>8.0</td>\n      <td>17.0</td>\n    </tr>\n    <tr>\n      <th>70223</th>\n      <td>1000029</td>\n      <td>P00288742</td>\n      <td>M</td>\n      <td>36-45</td>\n      <td>7</td>\n      <td>C</td>\n      <td>1</td>\n      <td>0</td>\n      <td>16.0</td>\n      <td>NaN</td>\n      <td>NaN</td>\n    </tr>\n    <tr>\n      <th>85767</th>\n      <td>1000029</td>\n      <td>P00241642</td>\n      <td>M</td>\n      <td>36-45</td>\n      <td>7</td>\n      <td>C</td>\n      <td>1</td>\n      <td>0</td>\n      <td>1.0</td>\n      <td>2.0</td>\n      <td>11.0</td>\n    </tr>\n    <tr>\n      <th>93466</th>\n      <td>1000029</td>\n      <td>P00284842</td>\n      <td>M</td>\n      <td>36-45</td>\n      <td>7</td>\n      <td>C</td>\n      <td>1</td>\n      <td>0</td>\n      <td>NaN</td>\n      <td>8.0</td>\n      <td>17.0</td>\n    </tr>\n    <tr>\n      <th>124610</th>\n      <td>1000029</td>\n      <td>P00217142</td>\n      <td>NaN</td>\n      <td>36-45</td>\n      <td>7</td>\n      <td>C</td>\n      <td>1</td>\n      <td>0</td>\n      <td>NaN</td>\n      <td>15.0</td>\n      <td>NaN</td>\n    </tr>\n    <tr>\n      <th>128527</th>\n      <td>1000029</td>\n      <td>P00113642</td>\n      <td>M</td>\n      <td>36-45</td>\n      <td>7</td>\n      <td>C</td>\n      <td>1</td>\n      <td>0</td>\n      <td>8.0</td>\n      <td>NaN</td>\n      <td>NaN</td>\n    </tr>\n    <tr>\n      <th>128528</th>\n      <td>1000029</td>\n      <td>P00005042</td>\n      <td>M</td>\n      <td>999</td>\n      <td>7</td>\n      <td>C</td>\n      <td>1</td>\n      <td>0</td>\n      <td>NaN</td>\n      <td>16.0</td>\n      <td>NaN</td>\n    </tr>\n    <tr>\n      <th>128529</th>\n      <td>1000029</td>\n      <td>P00127642</td>\n      <td>M</td>\n      <td>36-45</td>\n      <td>7</td>\n      <td>C</td>\n      <td>1</td>\n      <td>0</td>\n      <td>1.0</td>\n      <td>2.0</td>\n      <td>15.0</td>\n    </tr>\n    <tr>\n      <th>144329</th>\n      <td>1000029</td>\n      <td>P00028042</td>\n      <td>M</td>\n      <td>36-45</td>\n      <td>7</td>\n      <td>C</td>\n      <td>1</td>\n      <td>0</td>\n      <td>1.0</td>\n      <td>16.0</td>\n      <td>NaN</td>\n    </tr>\n    <tr>\n      <th>144330</th>\n      <td>1000029</td>\n      <td>P00297842</td>\n      <td>NaN</td>\n      <td>36-45</td>\n      <td>7</td>\n      <td>Unknown</td>\n      <td>1</td>\n      <td>0</td>\n      <td>NaN</td>\n      <td>NaN</td>\n      <td>NaN</td>\n    </tr>\n    <tr>\n      <th>148238</th>\n      <td>1000029</td>\n      <td>P00346142</td>\n      <td>M</td>\n      <td>36-45</td>\n      <td>7</td>\n      <td>C</td>\n      <td>1</td>\n      <td>0</td>\n      <td>NaN</td>\n      <td>15.0</td>\n      <td>NaN</td>\n    </tr>\n    <tr>\n      <th>148239</th>\n      <td>1000029</td>\n      <td>P00348542</td>\n      <td>M</td>\n      <td>36-45</td>\n      <td>7</td>\n      <td>C</td>\n      <td>1</td>\n      <td>0</td>\n      <td>1.0</td>\n      <td>16.0</td>\n      <td>NaN</td>\n    </tr>\n    <tr>\n      <th>152070</th>\n      <td>1000029</td>\n      <td>P00162042</td>\n      <td>NaN</td>\n      <td>36-45</td>\n      <td>7</td>\n      <td>Unknown</td>\n      <td>1</td>\n      <td>0</td>\n      <td>NaN</td>\n      <td>6.0</td>\n      <td>NaN</td>\n    </tr>\n    <tr>\n      <th>155919</th>\n      <td>1000029</td>\n      <td>P00359242</td>\n      <td>M</td>\n      <td>36-45</td>\n      <td>7</td>\n      <td>C</td>\n      <td>1</td>\n      <td>0</td>\n      <td>1.0</td>\n      <td>5.0</td>\n      <td>17.0</td>\n    </tr>\n    <tr>\n      <th>167423</th>\n      <td>1000029</td>\n      <td>P00147942</td>\n      <td>M</td>\n      <td>36-45</td>\n      <td>7</td>\n      <td>C</td>\n      <td>1</td>\n      <td>0</td>\n      <td>1.0</td>\n      <td>16.0</td>\n      <td>NaN</td>\n    </tr>\n    <tr>\n      <th>167424</th>\n      <td>1000029</td>\n      <td>P00090942</td>\n      <td>M</td>\n      <td>999</td>\n      <td>7</td>\n      <td>Unknown</td>\n      <td>1</td>\n      <td>0</td>\n      <td>NaN</td>\n      <td>2.0</td>\n      <td>14.0</td>\n    </tr>\n    <tr>\n      <th>175253</th>\n      <td>1000029</td>\n      <td>P00113242</td>\n      <td>M</td>\n      <td>36-45</td>\n      <td>7</td>\n      <td>C</td>\n      <td>1</td>\n      <td>0</td>\n      <td>1.0</td>\n      <td>6.0</td>\n      <td>8.0</td>\n    </tr>\n    <tr>\n      <th>179237</th>\n      <td>1000029</td>\n      <td>P00237542</td>\n      <td>M</td>\n      <td>36-45</td>\n      <td>7</td>\n      <td>C</td>\n      <td>1</td>\n      <td>0</td>\n      <td>1.0</td>\n      <td>15.0</td>\n      <td>16.0</td>\n    </tr>\n    <tr>\n      <th>179238</th>\n      <td>1000029</td>\n      <td>P00341342</td>\n      <td>M</td>\n      <td>36-45</td>\n      <td>7</td>\n      <td>Unknown</td>\n      <td>1</td>\n      <td>0</td>\n      <td>NaN</td>\n      <td>8.0</td>\n      <td>17.0</td>\n    </tr>\n    <tr>\n      <th>179239</th>\n      <td>1000029</td>\n      <td>P00034442</td>\n      <td>M</td>\n      <td>36-45</td>\n      <td>7</td>\n      <td>C</td>\n      <td>1</td>\n      <td>0</td>\n      <td>1.0</td>\n      <td>14.0</td>\n      <td>16.0</td>\n    </tr>\n    <tr>\n      <th>233600</th>\n      <td>1000029</td>\n      <td>P00111542</td>\n      <td>M</td>\n      <td>36-45</td>\n      <td>7</td>\n      <td>C</td>\n      <td>1</td>\n      <td>0</td>\n      <td>2.0</td>\n      <td>17.0</td>\n      <td>NaN</td>\n    </tr>\n  </tbody>\n</table>\n</div>"
     },
     "execution_count": 7,
     "metadata": {},
     "output_type": "execute_result"
    }
   ],
   "source": [
    "subset_data = raw_data_copy.iloc[14:20]\n",
    "raw_data_copy = pd.concat([raw_data_copy, subset_data], ignore_index=True)\n",
    "raw_data_copy[raw_data_copy.User_ID == 1000029]\n"
   ],
   "metadata": {
    "collapsed": false,
    "ExecuteTime": {
     "end_time": "2024-04-14T19:00:53.817256Z",
     "start_time": "2024-04-14T19:00:53.798640Z"
    }
   },
   "id": "ead7e41cdac1aabb",
   "execution_count": 7
  },
  {
   "cell_type": "markdown",
   "source": [
    "### Incorrect data type"
   ],
   "metadata": {
    "collapsed": false
   },
   "id": "25287953144eb11b"
  },
  {
   "cell_type": "code",
   "outputs": [
    {
     "name": "stderr",
     "output_type": "stream",
     "text": [
      "/var/folders/_c/p1x36y5n3dv4rpm9sgpjv0z00000gn/T/ipykernel_56741/1662237730.py:1: FutureWarning: Setting an item of incompatible dtype is deprecated and will raise in a future error of pandas. Value '['7' '1' '1' ... '7' '3' '1']' has dtype incompatible with int64, please explicitly cast to a compatible dtype first.\n",
      "  raw_data_copy.loc[::2, \"Occupation\"] = raw_data_copy.loc[::2, \"Occupation\"].astype(str)\n"
     ]
    },
    {
     "data": {
      "text/plain": "0          7\n2          1\n4          1\n6          1\n8          7\n          ..\n233596    15\n233598     0\n233600     7\n233602     3\n233604     1\nName: Occupation, Length: 116803, dtype: object"
     },
     "execution_count": 8,
     "metadata": {},
     "output_type": "execute_result"
    }
   ],
   "source": [
    "raw_data_copy.loc[::2, \"Occupation\"] = raw_data_copy.loc[::2, \"Occupation\"].astype(str)\n",
    "raw_data_copy.loc[::2, \"Occupation\"]"
   ],
   "metadata": {
    "collapsed": false,
    "ExecuteTime": {
     "end_time": "2024-04-14T19:00:53.851312Z",
     "start_time": "2024-04-14T19:00:53.819485Z"
    }
   },
   "id": "75efd6d598b98140",
   "execution_count": 8
  },
  {
   "cell_type": "code",
   "outputs": [
    {
     "data": {
      "text/plain": "    User_ID Product_ID Gender    Age Occupation City_Category  \\\n0   1000004  P00128942    NaN    999          7       Unknown   \n1   1000009  P00113442      M  26-35         17             C   \n2   1000010  P00288442      F  36-45          1             B   \n3   1000010  P00145342      F  36-45          1             B   \n4   1000011  P00053842      F  26-35          1             C   \n5   1000013  P00350442      M  46-50          1             C   \n6   1000013  P00155442      M  46-50          1       Unknown   \n7   1000013   P0094542      M  46-50          1             C   \n8   1000015  P00161842      M    999          7             A   \n9   1000022  P00067942      M  18-25         15             A   \n10  1000026  P00046742    NaN  26-35          7             B   \n11  1000026  P00040042      M  26-35          7             B   \n12  1000026  P00196542      M  26-35          7       Unknown   \n13  1000026  P00004542      M  26-35          7             B   \n14  1000028  P00159542      F  26-35          1             C   \n15  1000029  P00111542      M  36-45          7             C   \n16  1000033  P00121042      M    999          3             A   \n17  1000033  P00344442      M  46-50          3             A   \n18  1000034  P00265242      F  18-25          0       Unknown   \n19  1000035   P0096642      M  46-50          1             C   \n\n   Stay_In_Current_City_Years  Marital_Status  Product_Category_1  \\\n0                           2               1                 NaN   \n1                           0               0                 3.0   \n2                          4+               1                 NaN   \n3                          4+               1                 4.0   \n4                           1               0                 NaN   \n5                           3               1                 2.0   \n6                           3               1                 NaN   \n7                           3               1                 2.0   \n8                           1               0                 NaN   \n9                          4+               0                 5.0   \n10                          2               1                 NaN   \n11                          2               1                 5.0   \n12                          2               1                 NaN   \n13                          2               1                 5.0   \n14                          2               1                 NaN   \n15                          1               0                 2.0   \n16                          1               1                 NaN   \n17                          1               1                 5.0   \n18                          0               0                 NaN   \n19                         4+               1                 2.0   \n\n    Product_Category_2 Product_Category_3  \n0                 11.0                abc  \n1                  5.0                NaN  \n2                 14.0                NaN  \n3                  9.0                NaN  \n4                  5.0               12.0  \n5                  3.0               15.0  \n6                 11.0               15.0  \n7                  4.0                9.0  \n8                 13.0               16.0  \n9                 14.0                NaN  \n10                 2.0               15.0  \n11                 NaN                NaN  \n12                 8.0               14.0  \n13                 8.0                NaN  \n14                15.0               16.0  \n15                17.0                NaN  \n16                 NaN                NaN  \n17                 8.0               14.0  \n18                 8.0                NaN  \n19                 3.0                4.0  ",
      "text/html": "<div>\n<style scoped>\n    .dataframe tbody tr th:only-of-type {\n        vertical-align: middle;\n    }\n\n    .dataframe tbody tr th {\n        vertical-align: top;\n    }\n\n    .dataframe thead th {\n        text-align: right;\n    }\n</style>\n<table border=\"1\" class=\"dataframe\">\n  <thead>\n    <tr style=\"text-align: right;\">\n      <th></th>\n      <th>User_ID</th>\n      <th>Product_ID</th>\n      <th>Gender</th>\n      <th>Age</th>\n      <th>Occupation</th>\n      <th>City_Category</th>\n      <th>Stay_In_Current_City_Years</th>\n      <th>Marital_Status</th>\n      <th>Product_Category_1</th>\n      <th>Product_Category_2</th>\n      <th>Product_Category_3</th>\n    </tr>\n  </thead>\n  <tbody>\n    <tr>\n      <th>0</th>\n      <td>1000004</td>\n      <td>P00128942</td>\n      <td>NaN</td>\n      <td>999</td>\n      <td>7</td>\n      <td>Unknown</td>\n      <td>2</td>\n      <td>1</td>\n      <td>NaN</td>\n      <td>11.0</td>\n      <td>abc</td>\n    </tr>\n    <tr>\n      <th>1</th>\n      <td>1000009</td>\n      <td>P00113442</td>\n      <td>M</td>\n      <td>26-35</td>\n      <td>17</td>\n      <td>C</td>\n      <td>0</td>\n      <td>0</td>\n      <td>3.0</td>\n      <td>5.0</td>\n      <td>NaN</td>\n    </tr>\n    <tr>\n      <th>2</th>\n      <td>1000010</td>\n      <td>P00288442</td>\n      <td>F</td>\n      <td>36-45</td>\n      <td>1</td>\n      <td>B</td>\n      <td>4+</td>\n      <td>1</td>\n      <td>NaN</td>\n      <td>14.0</td>\n      <td>NaN</td>\n    </tr>\n    <tr>\n      <th>3</th>\n      <td>1000010</td>\n      <td>P00145342</td>\n      <td>F</td>\n      <td>36-45</td>\n      <td>1</td>\n      <td>B</td>\n      <td>4+</td>\n      <td>1</td>\n      <td>4.0</td>\n      <td>9.0</td>\n      <td>NaN</td>\n    </tr>\n    <tr>\n      <th>4</th>\n      <td>1000011</td>\n      <td>P00053842</td>\n      <td>F</td>\n      <td>26-35</td>\n      <td>1</td>\n      <td>C</td>\n      <td>1</td>\n      <td>0</td>\n      <td>NaN</td>\n      <td>5.0</td>\n      <td>12.0</td>\n    </tr>\n    <tr>\n      <th>5</th>\n      <td>1000013</td>\n      <td>P00350442</td>\n      <td>M</td>\n      <td>46-50</td>\n      <td>1</td>\n      <td>C</td>\n      <td>3</td>\n      <td>1</td>\n      <td>2.0</td>\n      <td>3.0</td>\n      <td>15.0</td>\n    </tr>\n    <tr>\n      <th>6</th>\n      <td>1000013</td>\n      <td>P00155442</td>\n      <td>M</td>\n      <td>46-50</td>\n      <td>1</td>\n      <td>Unknown</td>\n      <td>3</td>\n      <td>1</td>\n      <td>NaN</td>\n      <td>11.0</td>\n      <td>15.0</td>\n    </tr>\n    <tr>\n      <th>7</th>\n      <td>1000013</td>\n      <td>P0094542</td>\n      <td>M</td>\n      <td>46-50</td>\n      <td>1</td>\n      <td>C</td>\n      <td>3</td>\n      <td>1</td>\n      <td>2.0</td>\n      <td>4.0</td>\n      <td>9.0</td>\n    </tr>\n    <tr>\n      <th>8</th>\n      <td>1000015</td>\n      <td>P00161842</td>\n      <td>M</td>\n      <td>999</td>\n      <td>7</td>\n      <td>A</td>\n      <td>1</td>\n      <td>0</td>\n      <td>NaN</td>\n      <td>13.0</td>\n      <td>16.0</td>\n    </tr>\n    <tr>\n      <th>9</th>\n      <td>1000022</td>\n      <td>P00067942</td>\n      <td>M</td>\n      <td>18-25</td>\n      <td>15</td>\n      <td>A</td>\n      <td>4+</td>\n      <td>0</td>\n      <td>5.0</td>\n      <td>14.0</td>\n      <td>NaN</td>\n    </tr>\n    <tr>\n      <th>10</th>\n      <td>1000026</td>\n      <td>P00046742</td>\n      <td>NaN</td>\n      <td>26-35</td>\n      <td>7</td>\n      <td>B</td>\n      <td>2</td>\n      <td>1</td>\n      <td>NaN</td>\n      <td>2.0</td>\n      <td>15.0</td>\n    </tr>\n    <tr>\n      <th>11</th>\n      <td>1000026</td>\n      <td>P00040042</td>\n      <td>M</td>\n      <td>26-35</td>\n      <td>7</td>\n      <td>B</td>\n      <td>2</td>\n      <td>1</td>\n      <td>5.0</td>\n      <td>NaN</td>\n      <td>NaN</td>\n    </tr>\n    <tr>\n      <th>12</th>\n      <td>1000026</td>\n      <td>P00196542</td>\n      <td>M</td>\n      <td>26-35</td>\n      <td>7</td>\n      <td>Unknown</td>\n      <td>2</td>\n      <td>1</td>\n      <td>NaN</td>\n      <td>8.0</td>\n      <td>14.0</td>\n    </tr>\n    <tr>\n      <th>13</th>\n      <td>1000026</td>\n      <td>P00004542</td>\n      <td>M</td>\n      <td>26-35</td>\n      <td>7</td>\n      <td>B</td>\n      <td>2</td>\n      <td>1</td>\n      <td>5.0</td>\n      <td>8.0</td>\n      <td>NaN</td>\n    </tr>\n    <tr>\n      <th>14</th>\n      <td>1000028</td>\n      <td>P00159542</td>\n      <td>F</td>\n      <td>26-35</td>\n      <td>1</td>\n      <td>C</td>\n      <td>2</td>\n      <td>1</td>\n      <td>NaN</td>\n      <td>15.0</td>\n      <td>16.0</td>\n    </tr>\n    <tr>\n      <th>15</th>\n      <td>1000029</td>\n      <td>P00111542</td>\n      <td>M</td>\n      <td>36-45</td>\n      <td>7</td>\n      <td>C</td>\n      <td>1</td>\n      <td>0</td>\n      <td>2.0</td>\n      <td>17.0</td>\n      <td>NaN</td>\n    </tr>\n    <tr>\n      <th>16</th>\n      <td>1000033</td>\n      <td>P00121042</td>\n      <td>M</td>\n      <td>999</td>\n      <td>3</td>\n      <td>A</td>\n      <td>1</td>\n      <td>1</td>\n      <td>NaN</td>\n      <td>NaN</td>\n      <td>NaN</td>\n    </tr>\n    <tr>\n      <th>17</th>\n      <td>1000033</td>\n      <td>P00344442</td>\n      <td>M</td>\n      <td>46-50</td>\n      <td>3</td>\n      <td>A</td>\n      <td>1</td>\n      <td>1</td>\n      <td>5.0</td>\n      <td>8.0</td>\n      <td>14.0</td>\n    </tr>\n    <tr>\n      <th>18</th>\n      <td>1000034</td>\n      <td>P00265242</td>\n      <td>F</td>\n      <td>18-25</td>\n      <td>0</td>\n      <td>Unknown</td>\n      <td>0</td>\n      <td>0</td>\n      <td>NaN</td>\n      <td>8.0</td>\n      <td>NaN</td>\n    </tr>\n    <tr>\n      <th>19</th>\n      <td>1000035</td>\n      <td>P0096642</td>\n      <td>M</td>\n      <td>46-50</td>\n      <td>1</td>\n      <td>C</td>\n      <td>4+</td>\n      <td>1</td>\n      <td>2.0</td>\n      <td>3.0</td>\n      <td>4.0</td>\n    </tr>\n  </tbody>\n</table>\n</div>"
     },
     "execution_count": 9,
     "metadata": {},
     "output_type": "execute_result"
    }
   ],
   "source": [
    "raw_data_copy.head(20)"
   ],
   "metadata": {
    "collapsed": false,
    "ExecuteTime": {
     "end_time": "2024-04-14T19:00:53.860069Z",
     "start_time": "2024-04-14T19:00:53.852479Z"
    }
   },
   "id": "66ddd8329aaa22d6",
   "execution_count": 9
  },
  {
   "cell_type": "code",
   "outputs": [],
   "source": [
    "raw_data_copy.to_csv(\"../data_raw/data_with_errors.csv\", index=False)"
   ],
   "metadata": {
    "collapsed": false,
    "ExecuteTime": {
     "end_time": "2024-04-14T19:00:54.250466Z",
     "start_time": "2024-04-14T19:00:53.860828Z"
    }
   },
   "id": "998b3d80b3041f7b",
   "execution_count": 10
  }
 ],
 "metadata": {
  "kernelspec": {
   "display_name": "Python 3",
   "language": "python",
   "name": "python3"
  },
  "language_info": {
   "codemirror_mode": {
    "name": "ipython",
    "version": 2
   },
   "file_extension": ".py",
   "mimetype": "text/x-python",
   "name": "python",
   "nbconvert_exporter": "python",
   "pygments_lexer": "ipython2",
   "version": "2.7.6"
  }
 },
 "nbformat": 4,
 "nbformat_minor": 5
}
