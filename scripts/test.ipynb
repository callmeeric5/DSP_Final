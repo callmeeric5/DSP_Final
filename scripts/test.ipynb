{
 "cells": [
  {
   "cell_type": "code",
   "execution_count": 8,
   "id": "initial_id",
   "metadata": {
    "ExecuteTime": {
     "end_time": "2024-03-27T01:08:59.389115Z",
     "start_time": "2024-03-27T01:08:58.378256Z"
    },
    "collapsed": true
   },
   "outputs": [],
   "source": [
    "from train import train\n",
    "import pandas as pd\n",
    "import sys\n",
    "sys.path.append(\"../\")"
   ]
  },
  {
   "cell_type": "code",
   "execution_count": 9,
   "id": "8de514b1d44af7de",
   "metadata": {
    "ExecuteTime": {
     "end_time": "2024-03-27T01:08:59.796240Z",
     "start_time": "2024-03-27T01:08:59.390592Z"
    },
    "collapsed": false
   },
   "outputs": [],
   "source": [
    "train_data = pd.read_csv('../data_raw/train.csv')"
   ]
  },
  {
   "cell_type": "code",
   "execution_count": 10,
   "id": "f36f7f2cf64c0aa4",
   "metadata": {
    "ExecuteTime": {
     "end_time": "2024-03-27T01:09:14.655341Z",
     "start_time": "2024-03-27T01:08:59.797118Z"
    },
    "collapsed": false
   },
   "outputs": [],
   "source": [
    "mse = train(train_data)"
   ]
  },
  {
   "cell_type": "code",
   "execution_count": 11,
   "id": "5a5fedd46f0dc9f0",
   "metadata": {
    "ExecuteTime": {
     "end_time": "2024-03-27T01:09:14.664616Z",
     "start_time": "2024-03-27T01:09:14.657044Z"
    },
    "collapsed": false
   },
   "outputs": [
    {
     "data": {
      "text/plain": [
       "0.6515954748631059"
      ]
     },
     "execution_count": 11,
     "metadata": {},
     "output_type": "execute_result"
    }
   ],
   "source": [
    "mse "
   ]
  },
  {
   "cell_type": "code",
   "execution_count": 12,
   "id": "9ab63949673e6d57",
   "metadata": {
    "ExecuteTime": {
     "end_time": "2024-03-27T01:09:15.305778Z",
     "start_time": "2024-03-27T01:09:14.669229Z"
    },
    "collapsed": false
   },
   "outputs": [
    {
     "data": {
      "text/plain": [
       "array([14105.652 , 10920.487 ,  6251.1304, ..., 14889.641 , 20546.908 ,\n",
       "        2126.803 ], dtype=float32)"
      ]
     },
     "execution_count": 12,
     "metadata": {},
     "output_type": "execute_result"
    }
   ],
   "source": [
    "from inference import predict\n",
    "test_data = pd.read_csv('../data_raw/test.csv')\n",
    "predict(test_data)"
   ]
  },
  {
   "cell_type": "code",
   "execution_count": 3,
   "id": "42813b6d6b660ee4",
   "metadata": {
    "collapsed": false,
    "ExecuteTime": {
     "end_time": "2024-04-01T00:30:17.735063Z",
     "start_time": "2024-04-01T00:30:17.729080Z"
    }
   },
   "outputs": [],
   "source": [
    "import pandas as pd\n",
    "\n",
    "\n",
    "ls = ['123', '456', 'M', '0-17', 1, 'A', '1', 0, 1, 2, 3]\n",
    "df = pd.DataFrame([ls], columns = [\n",
    "            \"User_ID\",\n",
    "            \"Product_ID\",\n",
    "            \"Gender\",\n",
    "            \"Age\",\n",
    "            \"Occupation\",\n",
    "            \"City_Category\",\n",
    "            \"Stay_In_Current_City_Years\",\n",
    "            \"Marital_Status\",\n",
    "            \"Product_Category_1\",\n",
    "            \"Product_Category_2\",\n",
    "            \"Product_Category_3\",\n",
    "        ])"
   ]
  },
  {
   "cell_type": "code",
   "outputs": [
    {
     "data": {
      "text/plain": "[['123', '456', 'M', '0-17', 1, 'A', '1', 0, 1, 2, 3]]"
     },
     "execution_count": 5,
     "metadata": {},
     "output_type": "execute_result"
    }
   ],
   "source": [
    "df.values.tolist()"
   ],
   "metadata": {
    "collapsed": false,
    "ExecuteTime": {
     "end_time": "2024-04-01T00:30:32.950134Z",
     "start_time": "2024-04-01T00:30:32.944664Z"
    }
   },
   "id": "6b9748a260336034",
   "execution_count": 5
  },
  {
   "cell_type": "code",
   "outputs": [],
   "source": [],
   "metadata": {
    "collapsed": false
   },
   "id": "cc36dea500fa7fbd"
  }
 ],
 "metadata": {
  "kernelspec": {
   "display_name": "Python 3",
   "language": "python",
   "name": "python3"
  },
  "language_info": {
   "codemirror_mode": {
    "name": "ipython",
    "version": 3
   },
   "file_extension": ".py",
   "mimetype": "text/x-python",
   "name": "python",
   "nbconvert_exporter": "python",
   "pygments_lexer": "ipython3",
   "version": "3.12.2"
  }
 },
 "nbformat": 4,
 "nbformat_minor": 5
}
