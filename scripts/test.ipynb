{
 "cells": [
  {
   "cell_type": "code",
   "execution_count": 1,
   "id": "initial_id",
   "metadata": {
    "collapsed": true,
    "ExecuteTime": {
     "end_time": "2024-03-27T01:08:59.389115Z",
     "start_time": "2024-03-27T01:08:58.378256Z"
    }
   },
   "outputs": [],
   "source": [
    "from scripts.train import train\n",
    "import pandas as pd\n",
    "import sys\n",
    "sys.path.append(\"../\")"
   ]
  },
  {
   "cell_type": "code",
   "outputs": [],
   "source": [
    "train_data = pd.read_csv('../data_raw/train.csv')"
   ],
   "metadata": {
    "collapsed": false,
    "ExecuteTime": {
     "end_time": "2024-03-27T01:08:59.796240Z",
     "start_time": "2024-03-27T01:08:59.390592Z"
    }
   },
   "id": "8de514b1d44af7de",
   "execution_count": 2
  },
  {
   "cell_type": "code",
   "outputs": [],
   "source": [
    "mse = train(train_data)"
   ],
   "metadata": {
    "collapsed": false,
    "ExecuteTime": {
     "end_time": "2024-03-27T01:09:14.655341Z",
     "start_time": "2024-03-27T01:08:59.797118Z"
    }
   },
   "id": "f36f7f2cf64c0aa4",
   "execution_count": 3
  },
  {
   "cell_type": "code",
   "outputs": [
    {
     "data": {
      "text/plain": "0.6517322323510532"
     },
     "execution_count": 4,
     "metadata": {},
     "output_type": "execute_result"
    }
   ],
   "source": [
    "mse "
   ],
   "metadata": {
    "collapsed": false,
    "ExecuteTime": {
     "end_time": "2024-03-27T01:09:14.664616Z",
     "start_time": "2024-03-27T01:09:14.657044Z"
    }
   },
   "id": "5a5fedd46f0dc9f0",
   "execution_count": 4
  },
  {
   "cell_type": "code",
   "outputs": [
    {
     "data": {
      "text/plain": "array([14141.933 , 10726.113 ,  6271.9453, ..., 14424.469 , 20797.283 ,\n        2087.3933], dtype=float32)"
     },
     "execution_count": 5,
     "metadata": {},
     "output_type": "execute_result"
    }
   ],
   "source": [
    "from inference import predict\n",
    "test_data = pd.read_csv('../data_raw/test.csv')\n",
    "predict(test_data)"
   ],
   "metadata": {
    "collapsed": false,
    "ExecuteTime": {
     "end_time": "2024-03-27T01:09:15.305778Z",
     "start_time": "2024-03-27T01:09:14.669229Z"
    }
   },
   "id": "9ab63949673e6d57",
   "execution_count": 5
  },
  {
   "cell_type": "code",
   "outputs": [],
   "source": [],
   "metadata": {
    "collapsed": false,
    "ExecuteTime": {
     "end_time": "2024-03-27T01:09:15.309620Z",
     "start_time": "2024-03-27T01:09:15.307049Z"
    }
   },
   "id": "42813b6d6b660ee4",
   "execution_count": 5
  }
 ],
 "metadata": {
  "kernelspec": {
   "display_name": "Python 3",
   "language": "python",
   "name": "python3"
  },
  "language_info": {
   "codemirror_mode": {
    "name": "ipython",
    "version": 2
   },
   "file_extension": ".py",
   "mimetype": "text/x-python",
   "name": "python",
   "nbconvert_exporter": "python",
   "pygments_lexer": "ipython2",
   "version": "2.7.6"
  }
 },
 "nbformat": 4,
 "nbformat_minor": 5
}
