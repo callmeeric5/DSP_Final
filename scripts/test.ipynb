{
 "cells": [
  {
   "cell_type": "code",
   "execution_count": 4,
   "id": "initial_id",
   "metadata": {
    "ExecuteTime": {
     "end_time": "2024-03-27T01:08:59.389115Z",
     "start_time": "2024-03-27T01:08:58.378256Z"
    },
    "collapsed": true
   },
   "outputs": [
    {
     "ename": "ModuleNotFoundError",
     "evalue": "No module named 'scripts.train'",
     "output_type": "error",
     "traceback": [
      "\u001b[1;31m---------------------------------------------------------------------------\u001b[0m",
      "\u001b[1;31mModuleNotFoundError\u001b[0m                       Traceback (most recent call last)",
      "Cell \u001b[1;32mIn[4], line 1\u001b[0m\n\u001b[1;32m----> 1\u001b[0m \u001b[38;5;28;01mfrom\u001b[39;00m \u001b[38;5;21;01mscripts\u001b[39;00m\u001b[38;5;21;01m.\u001b[39;00m\u001b[38;5;21;01mtrain\u001b[39;00m \u001b[38;5;28;01mimport\u001b[39;00m train\n\u001b[0;32m      2\u001b[0m \u001b[38;5;28;01mimport\u001b[39;00m \u001b[38;5;21;01mpandas\u001b[39;00m \u001b[38;5;28;01mas\u001b[39;00m \u001b[38;5;21;01mpd\u001b[39;00m\n\u001b[0;32m      3\u001b[0m \u001b[38;5;28;01mimport\u001b[39;00m \u001b[38;5;21;01msys\u001b[39;00m\n",
      "\u001b[1;31mModuleNotFoundError\u001b[0m: No module named 'scripts.train'"
     ]
    }
   ],
   "source": [
    "from scripts.train import train\n",
    "import pandas as pd\n",
    "import sys\n",
    "sys.path.append(\"../\")"
   ]
  },
  {
   "cell_type": "code",
   "execution_count": 2,
   "id": "8de514b1d44af7de",
   "metadata": {
    "ExecuteTime": {
     "end_time": "2024-03-27T01:08:59.796240Z",
     "start_time": "2024-03-27T01:08:59.390592Z"
    },
    "collapsed": false
   },
   "outputs": [],
   "source": [
    "train_data = pd.read_csv('../data_raw/train.csv')"
   ]
  },
  {
   "cell_type": "code",
   "execution_count": 3,
   "id": "f36f7f2cf64c0aa4",
   "metadata": {
    "ExecuteTime": {
     "end_time": "2024-03-27T01:09:14.655341Z",
     "start_time": "2024-03-27T01:08:59.797118Z"
    },
    "collapsed": false
   },
   "outputs": [],
   "source": [
    "mse = train(train_data)"
   ]
  },
  {
   "cell_type": "code",
   "execution_count": 4,
   "id": "5a5fedd46f0dc9f0",
   "metadata": {
    "ExecuteTime": {
     "end_time": "2024-03-27T01:09:14.664616Z",
     "start_time": "2024-03-27T01:09:14.657044Z"
    },
    "collapsed": false
   },
   "outputs": [
    {
     "data": {
      "text/plain": [
       "0.6517322323510532"
      ]
     },
     "execution_count": 4,
     "metadata": {},
     "output_type": "execute_result"
    }
   ],
   "source": [
    "mse "
   ]
  },
  {
   "cell_type": "code",
   "execution_count": 5,
   "id": "9ab63949673e6d57",
   "metadata": {
    "ExecuteTime": {
     "end_time": "2024-03-27T01:09:15.305778Z",
     "start_time": "2024-03-27T01:09:14.669229Z"
    },
    "collapsed": false
   },
   "outputs": [
    {
     "data": {
      "text/plain": [
       "array([14141.933 , 10726.113 ,  6271.9453, ..., 14424.469 , 20797.283 ,\n",
       "        2087.3933], dtype=float32)"
      ]
     },
     "execution_count": 5,
     "metadata": {},
     "output_type": "execute_result"
    }
   ],
   "source": [
    "from inference import predict\n",
    "test_data = pd.read_csv('../data_raw/test.csv')\n",
    "predict(test_data)"
   ]
  },
  {
   "cell_type": "code",
   "execution_count": 5,
   "id": "42813b6d6b660ee4",
   "metadata": {
    "ExecuteTime": {
     "end_time": "2024-03-27T01:09:15.309620Z",
     "start_time": "2024-03-27T01:09:15.307049Z"
    },
    "collapsed": false
   },
   "outputs": [],
   "source": []
  }
 ],
 "metadata": {
  "kernelspec": {
   "display_name": "Python 3",
   "language": "python",
   "name": "python3"
  },
  "language_info": {
   "codemirror_mode": {
    "name": "ipython",
    "version": 3
   },
   "file_extension": ".py",
   "mimetype": "text/x-python",
   "name": "python",
   "nbconvert_exporter": "python",
   "pygments_lexer": "ipython3",
   "version": "3.12.2"
  }
 },
 "nbformat": 4,
 "nbformat_minor": 5
}
