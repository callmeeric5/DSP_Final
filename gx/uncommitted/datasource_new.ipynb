{
 "cells": [
  {
   "cell_type": "markdown",
   "id": "fe30f5c8",
   "metadata": {},
   "source": [
    "# Create a new pandas Datasource\n",
    "Use this notebook to configure a new pandas Datasource and add it to your project."
   ]
  },
  {
   "cell_type": "code",
   "source": [
    "import great_expectations as gx\n",
    "from great_expectations.cli.datasource import sanitize_yaml_and_save_datasource, check_if_datasource_name_exists\n",
    "context = gx.get_context()"
   ],
   "metadata": {
    "collapsed": false,
    "ExecuteTime": {
     "end_time": "2024-04-21T13:29:12.025810Z",
     "start_time": "2024-04-21T13:29:09.071492Z"
    }
   },
   "id": "ab5ac270df322fac",
   "outputs": [],
   "execution_count": 1
  },
  {
   "cell_type": "markdown",
   "source": [
    "## Customize Your Datasource Configuration\n",
    "\n",
    "**If you are new to Great Expectations Datasources,** you should check out our [how-to documentation](https://docs.greatexpectations.io/docs/guides/connecting_to_your_data/connect_to_data_overview)\n",
    "\n",
    "**My configuration is not so simple - are there more advanced options?**\n",
    "Glad you asked! Datasources are versatile. Please see our [How To Guides](https://docs.greatexpectations.io/docs/guides/connecting_to_your_data/connect_to_data_overview)!\n",
    "\n",
    "Give your datasource a unique name:"
   ],
   "metadata": {
    "collapsed": false
   },
   "id": "3f384e1322f17a9a"
  },
  {
   "cell_type": "code",
   "source": [
    "datasource_name = \"black_friday\""
   ],
   "metadata": {
    "collapsed": false,
    "ExecuteTime": {
     "end_time": "2024-04-21T13:29:12.033050Z",
     "start_time": "2024-04-21T13:29:12.029080Z"
    }
   },
   "id": "d31af545e896269",
   "outputs": [],
   "execution_count": 2
  },
  {
   "cell_type": "markdown",
   "source": [
    "### For files based Datasources:\n",
    "Here we are creating an example configuration.  The configuration contains an **InferredAssetFilesystemDataConnector** which will add a Data Asset for each file in the base directory you provided. It also contains a **RuntimeDataConnector** which can accept filepaths.   This is just an example, and you may customize this as you wish!\n",
    "\n",
    "Also, if you would like to learn more about the **DataConnectors** used in this configuration, including other methods to organize assets, handle multi-file assets, name assets based on parts of a filename, please see our docs on [InferredAssetDataConnectors](https://docs.greatexpectations.io/docs/guides/connecting_to_your_data/how_to_configure_an_inferredassetdataconnector) and [RuntimeDataConnectors](https://docs.greatexpectations.io/docs/guides/connecting_to_your_data/how_to_configure_a_runtimedataconnector).\n"
   ],
   "metadata": {
    "collapsed": false
   },
   "id": "fa4e400d41675613"
  },
  {
   "cell_type": "code",
   "source": [
    "example_yaml = f\"\"\"\n",
    "name: {datasource_name}\n",
    "class_name: Datasource\n",
    "execution_engine:\n",
    "  class_name: PandasExecutionEngine\n",
    "data_connectors:\n",
    "  default_inferred_data_connector_name:\n",
    "    class_name: InferredAssetFilesystemDataConnector\n",
    "    base_directory: ../data_raw/Ingestion\n",
    "    default_regex:\n",
    "      group_names:\n",
    "        - data_asset_name\n",
    "      pattern: (.*)\n",
    "    default_runtime_data_connector_name:\n",
    "        class_name: RuntimeDataConnector\n",
    "        module_name: great_expectations.datasource.data_connector\n",
    "        assets:\n",
    "          my_runtime_asset_name:\n",
    "            class_name: Asset\n",
    "            module_name: great_expectations.datasource.data_connector.asset\n",
    "            batch_identifiers:\n",
    "              - runtime_batch_identifier_name\n",
    "\"\"\"\n",
    "print(example_yaml)"
   ],
   "metadata": {
    "collapsed": false,
    "ExecuteTime": {
     "end_time": "2024-04-21T13:29:12.043505Z",
     "start_time": "2024-04-21T13:29:12.035675Z"
    }
   },
   "id": "3c3fecbb0c4bb608",
   "outputs": [
    {
     "name": "stdout",
     "output_type": "stream",
     "text": [
      "\n",
      "name: black_friday\n",
      "class_name: Datasource\n",
      "execution_engine:\n",
      "  class_name: PandasExecutionEngine\n",
      "data_connectors:\n",
      "  default_inferred_data_connector_name:\n",
      "    class_name: InferredAssetFilesystemDataConnector\n",
      "    base_directory: ../data_raw/Ingestion\n",
      "    default_regex:\n",
      "      group_names:\n",
      "        - data_asset_name\n",
      "      pattern: (.*)\n",
      "    default_runtime_data_connector_name:\n",
      "        class_name: RuntimeDataConnector\n",
      "        module_name: great_expectations.datasource.data_connector\n",
      "        assets:\n",
      "          my_runtime_asset_name:\n",
      "            class_name: Asset\n",
      "            module_name: great_expectations.datasource.data_connector.asset\n",
      "            batch_identifiers:\n",
      "              - runtime_batch_identifier_name\n",
      "\n"
     ]
    }
   ],
   "execution_count": 3
  },
  {
   "cell_type": "markdown",
   "source": [
    "# Test Your Datasource Configuration\n",
    "Here we will test your Datasource configuration to make sure it is valid.\n",
    "\n",
    "This `test_yaml_config()` function is meant to enable fast dev loops. **If your\n",
    "configuration is correct, this cell will show you some snippets of the data\n",
    "assets in the data source.** You can continually edit your Datasource config\n",
    "yaml and re-run the cell to check until the new config is valid.\n",
    "\n",
    "If you instead wish to use python instead of yaml to configure your Datasource,\n",
    "you can use `context.add_datasource()` and specify all the required parameters."
   ],
   "metadata": {
    "collapsed": false
   },
   "id": "18d63a77dd7956f6"
  },
  {
   "cell_type": "code",
   "source": [
    "context.test_yaml_config(yaml_config=example_yaml)"
   ],
   "metadata": {
    "collapsed": false,
    "ExecuteTime": {
     "end_time": "2024-04-21T13:29:12.288492Z",
     "start_time": "2024-04-21T13:29:12.048530Z"
    }
   },
   "id": "b003ec7a1e8578e8",
   "outputs": [
    {
     "name": "stdout",
     "output_type": "stream",
     "text": [
      "Attempting to instantiate class from config...\n",
      "\tInstantiating as a Datasource, since class_name is Datasource\n",
      "\tSuccessfully instantiated Datasource\n",
      "\n",
      "\n",
      "ExecutionEngine class name: PandasExecutionEngine\n",
      "Data Connectors:\n",
      "\tdefault_inferred_data_connector_name : InferredAssetFilesystemDataConnector\n",
      "\n",
      "\tAvailable data_asset_names (3 of 946):\n",
      "\t\t.DS_Store (1 of 1): ['.DS_Store']\n",
      "\t\tdata_1.csv (1 of 1): ['data_1.csv']\n",
      "\t\tdata_10.csv (1 of 1): ['data_10.csv']\n",
      "\n",
      "\tUnmatched data_references (0 of 0):[]\n",
      "\n"
     ]
    },
    {
     "data": {
      "text/plain": [
       "<great_expectations.datasource.new_datasource.Datasource at 0x1066235e0>"
      ]
     },
     "execution_count": 4,
     "metadata": {},
     "output_type": "execute_result"
    }
   ],
   "execution_count": 4
  },
  {
   "cell_type": "code",
   "source": [
    "print(context.get_available_data_asset_names())"
   ],
   "metadata": {
    "collapsed": false,
    "ExecuteTime": {
     "end_time": "2024-04-21T13:29:12.644340Z",
     "start_time": "2024-04-21T13:29:12.291595Z"
    }
   },
   "id": "78d4dd57d11f7919",
   "outputs": [
    {
     "name": "stdout",
     "output_type": "stream",
     "text": [
      "{'my_datasource': {'default_inferred_data_connector_name': ['data_605.csv', 'data_333.csv', 'data_732.csv', 'data_784.csv', 'data_987.csv', 'data_447.csv', 'data_660.csv', 'data_964.csv', 'data_117.csv', 'data_313.csv', 'data_389.csv', 'data_86.csv', 'data_223.csv', 'data_364.csv', 'data_624.csv', 'data_173.csv', 'data_59.csv', 'data_685.csv', 'data_155.csv', 'data_764.csv', 'data_93.csv', 'data_98.csv', 'data_936.csv', 'data_417.csv', 'data_309.csv', 'data_214.csv', 'data_961.csv', 'data_739.csv', 'data_827.csv', 'data_706.csv', 'data_777.csv', 'data_89.csv', 'data_996.csv', 'data_769.csv', 'data_200.csv', 'data_914.csv', 'data_647.csv', 'data_670.csv', 'data_911.csv', 'data_574.csv', 'data_463.csv', 'data_123.csv', 'data_16.csv', 'data_537.csv', 'data_924.csv', 'data_910.csv', 'data_457.csv', 'data_202.csv', 'data_470.csv', 'data_611.csv', 'data_32.csv', 'data_139.csv', 'data_499.csv', 'data_145.csv', 'data_175.csv', 'data_877.csv', 'data_199.csv', 'data_34.csv', 'data_346.csv', 'data_264.csv', 'data_149.csv', 'data_839.csv', 'data_863.csv', 'data_532.csv', 'data_441.csv', 'data_832.csv', 'data_917.csv', 'data_445.csv', 'data_720.csv', 'data_543.csv', 'data_676.csv', 'data_171.csv', 'data_710.csv', 'data_201.csv', 'data_209.csv', 'data_449.csv', 'data_165.csv', 'data_354.csv', 'data_881.csv', 'data_77.csv', 'data_761.csv', 'data_61.csv', 'data_992.csv', 'data_665.csv', 'data_906.csv', 'data_55.csv', 'data_273.csv', 'data_588.csv', 'data_345.csv', 'data_478.csv', 'data_60.csv', 'data_465.csv', 'data_958.csv', 'data_153.csv', 'data_679.csv', 'data_681.csv', 'data_402.csv', 'data_42.csv', 'data_955.csv', 'data_684.csv', 'data_653.csv', 'data_908.csv', 'data_26.csv', 'data_712.csv', 'data_971.csv', 'data_646.csv', 'data_966.csv', 'data_534.csv', 'data_266.csv', 'data_795.csv', 'data_25.csv', 'data_142.csv', 'data_432.csv', 'data_585.csv', 'data_990.csv', 'data_974.csv', 'data_597.csv', 'data_161.csv', 'data_80.csv', 'data_786.csv', 'data_281.csv', 'data_476.csv', 'data_671.csv', 'data_134.csv', 'data_31.csv', 'data_867.csv', 'data_262.csv', 'data_805.csv', 'data_315.csv', 'data_494.csv', 'data_330.csv', 'data_294.csv', 'data_442.csv', 'data_632.csv', 'data_510.csv', 'data_245.csv', 'data_4.csv', 'data_942.csv', 'data_383.csv', 'data_131.csv', 'data_988.csv', 'data_553.csv', 'data_866.csv', 'data_951.csv', 'data_650.csv', 'data_860.csv', 'data_997.csv', 'data_370.csv', 'data_108.csv', 'data_834.csv', 'data_654.csv', 'data_779.csv', 'data_925.csv', 'data_269.csv', 'data_399.csv', 'data_126.csv', 'data_256.csv', 'data_128.csv', 'data_304.csv', 'data_799.csv', 'data_813.csv', 'data_220.csv', 'data_413.csv', 'data_791.csv', 'data_998.csv', 'data_8.csv', 'data_221.csv', 'data_298.csv', 'data_892.csv', 'data_11.csv', 'data_127.csv', 'data_228.csv', 'data_898.csv', 'data_404.csv', 'data_565.csv', 'data_853.csv', 'data_729.csv', 'data_434.csv', 'data_183.csv', 'data_505.csv', 'data_163.csv', 'data_757.csv', 'data_276.csv', 'data_422.csv', 'data_103.csv', 'data_21.csv', 'data_398.csv', 'data_251.csv', 'data_2.csv', 'data_682.csv', 'data_336.csv', 'data_318.csv', 'data_897.csv', 'data_343.csv', 'data_663.csv', 'data_612.csv', 'data_815.csv', 'data_35.csv', 'data_865.csv', 'data_822.csv', 'data_692.csv', 'data_857.csv', 'data_926.csv', 'data_477.csv', 'data_433.csv', 'data_571.csv', 'data_711.csv', 'data_47.csv', 'data_191.csv', 'data_491.csv', 'data_630.csv', 'data_875.csv', 'data_629.csv', 'data_479.csv', 'data_889.csv', 'data_879.csv', 'data_62.csv', 'data_693.csv', 'data_58.csv', 'data_957.csv', 'data_50.csv', 'data_678.csv', 'data_348.csv', 'data_381.csv', 'data_515.csv', 'data_303.csv', 'data_902.csv', 'data_205.csv', 'data_529.csv', 'data_184.csv', 'data_368.csv', 'data_849.csv', 'data_92.csv', 'data_508.csv', 'data_63.csv', 'data_7.csv', 'data_323.csv', 'data_337.csv', 'data_29.csv', 'data_124.csv', 'data_159.csv', 'data_240.csv', 'data_547.csv', 'data_20.csv', 'data_828.csv', 'data_560.csv', 'data_643.csv', 'data_674.csv', 'data_359.csv', 'data_593.csv', 'data_763.csv', 'data_448.csv', 'data_667.csv', 'data_754.csv', 'data_166.csv', 'data_43.csv', 'data_64.csv', 'data_903.csv', 'data_771.csv', 'data_482.csv', 'data_531.csv', 'data_78.csv', 'data_246.csv', 'data_788.csv', 'data_868.csv', 'data_816.csv', 'data_634.csv', 'data_760.csv', 'data_772.csv', 'data_403.csv', 'data_790.csv', 'data_97.csv', 'data_439.csv', 'data_74.csv', 'data_871.csv', 'data_999.csv', 'data_129.csv', 'data_320.csv', 'data_545.csv', 'data_944.csv', 'data_94.csv', 'data_591.csv', 'data_100.csv', 'data_989.csv', 'data_237.csv', 'data_662.csv', 'data_130.csv', 'data_260.csv', 'data_212.csv', 'data_741.csv', 'data_800.csv', 'data_106.csv', 'data_501.csv', 'data_503.csv', 'data_538.csv', 'data_297.csv', 'data_110.csv', 'data_242.csv', 'data_848.csv', 'data_921.csv', 'data_697.csv', 'data_259.csv', 'data_789.csv', 'data_148.csv', 'data_631.csv', 'data_751.csv', 'data_341.csv', 'data_546.csv', 'data_353.csv', 'data_193.csv', 'data_119.csv', 'data_135.csv', 'data_615.csv', 'data_152.csv', 'data_792.csv', 'data_195.csv', 'data_373.csv', 'data_141.csv', 'data_9.csv', 'data_708.csv', 'data_512.csv', 'data_912.csv', 'data_18.csv', 'data_180.csv', 'data_203.csv', 'data_421.csv', 'data_285.csv', 'data_365.csv', 'data_107.csv', 'data_252.csv', 'data_197.csv', 'data_377.csv', 'data_886.csv', 'data_274.csv', 'data_104.csv', 'data_664.csv', 'data_775.csv', 'data_177.csv', 'data_486.csv', 'data_392.csv', 'data_842.csv', 'data_525.csv', 'data_95.csv', 'data_82.csv', 'data_979.csv', 'data_244.csv', 'data_688.csv', 'data_230.csv', 'data_548.csv', 'data_934.csv', 'data_85.csv', 'data_215.csv', 'data_894.csv', 'data_774.csv', 'data_250.csv', 'data_845.csv', 'data_922.csv', 'data_719.csv', 'data_521.csv', 'data_613.csv', 'data_360.csv', 'data_978.csv', 'data_400.csv', 'data_493.csv', 'data_391.csv', 'data_838.csv', 'data_91.csv', 'data_132.csv', 'data_79.csv', 'data_156.csv', 'data_498.csv', 'data_172.csv', 'data_114.csv', 'data_238.csv', 'data_767.csv', 'data_248.csv', 'data_773.csv', 'data_528.csv', 'data_438.csv', 'data_239.csv', 'data_570.csv', 'data_941.csv', 'data_410.csv', 'data_496.csv', 'data_280.csv', 'data_57.csv', 'data_147.csv', '.DS_Store', 'data_376.csv', 'data_411.csv', 'data_981.csv', 'data_30.csv', 'data_607.csv', 'data_620.csv', 'data_378.csv', 'data_551.csv', 'data_70.csv', 'data_797.csv', 'data_753.csv', 'data_257.csv', 'data_701.csv', 'data_762.csv', 'data_136.csv', 'data_619.csv', 'data_673.csv', 'data_387.csv', 'data_835.csv', 'data_606.csv', 'data_363.csv', 'data_222.csv', 'data_798.csv', 'data_913.csv', 'data_627.csv', 'data_90.csv', 'data_401.csv', 'data_120.csv', 'data_102.csv', 'data_649.csv', 'data_386.csv', 'data_306.csv', 'data_41.csv', 'data_747.csv', 'data_84.csv', 'data_88.csv', 'data_907.csv', 'data_928.csv', 'data_642.csv', 'data_851.csv', 'data_186.csv', 'data_54.csv', 'data_587.csv', 'data_752.csv', 'data_349.csv', 'data_552.csv', 'data_584.csv', 'data_960.csv', 'data_301.csv', 'data_755.csv', 'data_915.csv', 'data_965.csv', 'data_227.csv', 'data_187.csv', 'data_283.csv', 'data_290.csv', 'data_361.csv', 'data_418.csv', 'data_533.csv', 'data_759.csv', 'data_168.csv', 'data_279.csv', 'data_724.csv', 'data_856.csv', 'data_986.csv', 'data_340.csv', 'data_893.csv', 'data_19.csv', 'data_218.csv', 'data_324.csv', 'data_347.csv', 'data_475.csv', 'data_474.csv', 'data_930.csv', 'data_722.csv', 'data_338.csv', 'data_379.csv', 'data_322.csv', 'data_194.csv', 'data_502.csv', 'data_721.csv', 'data_578.csv', 'data_462.csv', 'data_555.csv', 'data_176.csv', 'data_648.csv', 'data_444.csv', 'data_781.csv', 'data_3.csv', 'data_514.csv', 'data_599.csv', 'data_901.csv', 'data_554.csv', 'data_735.csv', 'data_217.csv', 'data_429.csv', 'data_507.csv', 'data_743.csv', 'data_793.csv', 'data_293.csv', 'data_185.csv', 'data_802.csv', 'data_804.csv', 'data_28.csv', 'data_384.csv', 'data_576.csv', 'data_188.csv', 'data_683.csv', 'data_984.csv', 'data_623.csv', 'data_707.csv', 'data_883.csv', 'data_995.csv', 'data_540.csv', 'data_258.csv', 'data_878.csv', 'data_511.csv', 'data_443.csv', 'data_5.csv', 'data_331.csv', 'data_973.csv', 'data_160.csv', 'data_557.csv', 'data_229.csv', 'data_254.csv', 'data_380.csv', 'data_963.csv', 'data_459.csv', 'data_904.csv', 'data_109.csv', 'data_456.csv', 'data_669.csv', 'data_905.csv', 'data_698.csv', 'data_122.csv', 'data_504.csv', 'data_826.csv', 'data_344.csv', 'data_610.csv', 'data_728.csv', 'data_939.csv', 'data_412.csv', 'data_841.csv', 'data_81.csv', 'data_37.csv', 'data_414.csv', 'data_943.csv', 'data_382.csv', 'data_862.csv', 'data_742.csv', 'data_394.csv', 'data_803.csv', 'data_232.csv', 'data_935.csv', 'data_216.csv', 'data_310.csv', 'data_637.csv', 'data_746.csv', 'data_339.csv', 'data_192.csv', 'data_530.csv', 'data_526.csv', 'data_13.csv', 'data_52.csv', 'data_586.csv', 'data_595.csv', 'data_17.csv', 'data_639.csv', 'data_291.csv', 'data_689.csv', 'data_356.csv', 'data_483.csv', 'data_977.csv', 'data_661.csv', 'data_609.csv', 'data_436.csv', 'data_603.csv', 'data_668.csv', 'data_945.csv', 'data_406.csv', 'data_817.csv', 'data_727.csv', 'data_756.csv', 'data_233.csv', 'data_305.csv', 'data_833.csv', 'data_270.csv', 'data_461.csv', 'data_24.csv', 'data_198.csv', 'data_880.csv', 'data_705.csv', 'data_286.csv', 'data_589.csv', 'data_558.csv', 'data_420.csv', 'data_542.csv', 'data_952.csv', 'data_666.csv', 'data_287.csv', 'data_716.csv', 'data_847.csv', 'data_888.csv', 'data_948.csv', 'data_737.csv', 'data_189.csv', 'data_811.csv', 'data_204.csv', 'data_388.csv', 'data_423.csv', 'data_890.csv', 'data_579.csv', 'data_396.csv', 'data_45.csv', 'data_590.csv', 'data_807.csv', 'data_598.csv', 'data_651.csv', 'data_518.csv', 'data_454.csv', 'data_659.csv', 'data_940.csv', 'data_527.csv', 'data_440.csv', 'data_329.csv', 'data_113.csv', 'data_208.csv', 'data_481.csv', 'data_121.csv', 'data_415.csv', 'data_730.csv', 'data_617.csv', 'data_801.csv', 'data_556.csv', 'data_12.csv', 'data_284.csv', 'data_105.csv', 'data_864.csv', 'data_196.csv', 'data_870.csv', 'data_645.csv', 'data_723.csv', 'data_170.csv', 'data_241.csv', 'data_700.csv', 'data_687.csv', 'data_695.csv', 'data_140.csv', 'data_312.csv', 'data_327.csv', 'data_858.csv', 'data_265.csv', 'data_592.csv', 'data_471.csv', 'data_583.csv', 'data_15.csv', 'data_367.csv', 'data_397.csv', 'data_358.csv', 'data_362.csv', 'data_821.csv', 'data_918.csv', 'data_118.csv', 'data_40.csv', 'data_776.csv', 'data_950.csv', 'data_522.csv', 'data_335.csv', 'data_539.csv', 'data_594.csv', 'data_895.csv', 'data_569.csv', 'data_690.csv', 'data_207.csv', 'data_460.csv', 'data_23.csv', 'data_837.csv', 'data_151.csv', 'data_969.csv', 'data_487.csv', 'data_709.csv', 'data_390.csv', 'data_295.csv', 'data_39.csv', 'data_485.csv', 'data_157.csv', 'data_855.csv', 'data_277.csv', 'data_22.csv', 'data_1.csv', 'data_814.csv', 'data_366.csv', 'data_427.csv', 'data_375.csv', 'data_581.csv', 'data_211.csv', 'data_407.csv', 'data_970.csv', 'data_859.csv', 'data_452.csv', 'data_750.csv', 'data_765.csv', 'data_226.csv', 'data_311.csv', 'data_352.csv', 'data_308.csv', 'data_453.csv', 'data_497.csv', 'data_550.csv', 'data_640.csv', 'data_580.csv', 'data_115.csv', 'data_932.csv', 'data_982.csv', 'data_374.csv', 'data_794.csv', 'data_818.csv', 'data_976.csv', 'data_686.csv', 'data_523.csv', 'data_225.csv', 'data_267.csv', 'data_566.csv', 'data_69.csv', 'data_137.csv', 'data_116.csv', 'data_235.csv', 'data_125.csv', 'data_350.csv', 'data_524.csv', 'data_169.csv', 'data_820.csv', 'data_236.csv', 'data_253.csv', 'data_480.csv', 'data_885.csv', 'data_975.csv', 'data_519.csv', 'data_927.csv', 'data_101.csv', 'data_985.csv', 'data_249.csv', 'data_164.csv', 'data_778.csv', 'data_36.csv', 'data_600.csv', 'data_568.csv', 'data_71.csv', 'data_823.csv', 'data_909.csv', 'data_830.csv', 'data_75.csv', 'data_174.csv', 'data_954.csv', 'data_962.csv', 'data_14.csv', 'data_831.csv', 'data_372.csv', 'data_509.csv', 'data_564.csv', 'data_437.csv', 'data_677.csv', 'data_812.csv', 'data_726.csv', 'data_717.csv', 'data_733.csv', 'data_334.csv', 'data_27.csv', 'data_328.csv', 'data_473.csv', 'data_435.csv', 'data_937.csv', 'data_544.csv', 'data_956.csv', 'data_1000.csv', 'data_655.csv', 'data_644.csv', 'data_517.csv', 'data_770.csv', 'data_572.csv', 'data_490.csv', 'data_745.csv', 'data_317.csv', 'data_785.csv', 'data_713.csv', 'data_806.csv', 'data_854.csv', 'data_296.csv', 'data_492.csv', 'data_357.csv', 'data_641.csv', 'data_426.csv', 'data_561.csv', 'data_87.csv', 'data_946.csv', 'data_843.csv', 'data_891.csv', 'data_299.csv', 'data_96.csv', 'data_694.csv', 'data_314.csv', 'data_49.csv', 'data_602.csv', 'data_738.csv', 'data_355.csv', 'data_625.csv', 'data_715.csv', 'data_261.csv', 'data_500.csv', 'data_929.csv', 'data_326.csv', 'data_409.csv', 'data_325.csv', 'data_796.csv', 'data_783.csv', 'data_234.csv', 'data_464.csv', 'data_702.csv', 'data_896.csv', 'data_385.csv', 'data_809.csv', 'data_44.csv', 'data_836.csv', 'data_431.csv', 'data_38.csv', 'data_288.csv', 'data_282.csv', 'data_657.csv', 'data_549.csv', 'data_66.csv', 'data_658.csv', 'data_749.csv', 'data_876.csv', 'data_162.csv', 'data_744.csv', 'data_395.csv', 'data_219.csv', 'data_819.csv', 'data_840.csv', 'data_983.csv', 'data_133.csv', 'data_6.csv', 'data_852.csv', 'data_154.csv', 'data_699.csv', 'data_541.csv', 'data_740.csv', 'data_351.csv', 'data_430.csv', 'data_393.csv', 'data_628.csv', 'data_787.csv', 'data_920.csv', 'data_923.csv', 'data_56.csv', 'data_455.csv', 'data_278.csv', 'data_780.csv', 'data_567.csv', 'data_846.csv', 'data_872.csv', 'data_408.csv', 'data_489.csv', 'data_714.csv', 'data_179.csv', 'data_138.csv', 'data_146.csv', 'data_577.csv', 'data_466.csv', 'data_675.csv', 'data_748.csv', 'data_68.csv', 'data_869.csv', 'data_691.csv', 'data_321.csv', 'data_371.csv', 'data_10.csv', 'data_255.csv', 'data_626.csv', 'data_768.csv', 'data_972.csv', 'data_703.csv', 'data_428.csv', 'data_829.csv', 'data_520.csv', 'data_938.csv', 'data_33.csv', 'data_953.csv', 'data_469.csv', 'data_656.csv', 'data_424.csv', 'data_900.csv', 'data_425.csv', 'data_536.csv', 'data_652.csv', 'data_563.csv', 'data_72.csv', 'data_472.csv', 'data_99.csv', 'data_782.csv', 'data_416.csv', 'data_968.csv', 'data_573.csv', 'data_874.csv', 'data_622.csv', 'data_949.csv', 'data_112.csv', 'data_467.csv', 'data_596.csv', 'data_850.csv', 'data_302.csv', 'data_458.csv', 'data_672.csv', 'data_213.csv', 'data_825.csv', 'data_150.csv', 'data_275.csv', 'data_516.csv', 'data_559.csv', 'data_181.csv', 'data_604.csv', 'data_680.csv', 'data_887.csv', 'data_319.csv', 'data_959.csv', 'data_873.csv', 'data_919.csv', 'data_488.csv', 'data_210.csv', 'data_405.csv', 'data_601.csv', 'data_332.csv', 'data_562.csv', 'data_636.csv', 'data_618.csv', 'data_718.csv', 'data_766.csv', 'data_991.csv', 'data_243.csv', 'data_725.csv', 'data_861.csv', 'data_582.csv', 'data_947.csv', 'data_450.csv', 'data_967.csv', 'data_621.csv', 'data_342.csv', 'data_575.csv', 'data_76.csv', 'data_731.csv', 'data_696.csv', 'data_178.csv', 'data_67.csv', 'data_980.csv', 'data_704.csv', 'data_143.csv', 'data_882.csv', 'data_369.csv'], 'default_runtime_data_connector_name': ['my_runtime_asset_name']}, 'datasource': {'default_inferred_data_connector_name': ['data_605.csv', 'data_333.csv', 'data_732.csv', 'data_784.csv', 'data_987.csv', 'data_447.csv', 'data_660.csv', 'data_964.csv', 'data_117.csv', 'data_313.csv', 'data_389.csv', 'data_86.csv', 'data_223.csv', 'data_364.csv', 'data_624.csv', 'data_173.csv', 'data_59.csv', 'data_685.csv', 'data_155.csv', 'data_764.csv', 'data_93.csv', 'data_98.csv', 'data_936.csv', 'data_417.csv', 'data_309.csv', 'data_214.csv', 'data_961.csv', 'data_739.csv', 'data_827.csv', 'data_706.csv', 'data_777.csv', 'data_89.csv', 'data_996.csv', 'data_769.csv', 'data_200.csv', 'data_914.csv', 'data_647.csv', 'data_670.csv', 'data_911.csv', 'data_574.csv', 'data_463.csv', 'data_123.csv', 'data_16.csv', 'data_537.csv', 'data_924.csv', 'data_910.csv', 'data_457.csv', 'data_202.csv', 'data_470.csv', 'data_611.csv', 'data_32.csv', 'data_139.csv', 'data_499.csv', 'data_145.csv', 'data_175.csv', 'data_877.csv', 'data_199.csv', 'data_34.csv', 'data_346.csv', 'data_264.csv', 'data_149.csv', 'data_839.csv', 'data_863.csv', 'data_532.csv', 'data_441.csv', 'data_832.csv', 'data_917.csv', 'data_445.csv', 'data_720.csv', 'data_543.csv', 'data_676.csv', 'data_171.csv', 'data_710.csv', 'data_201.csv', 'data_209.csv', 'data_449.csv', 'data_165.csv', 'data_354.csv', 'data_881.csv', 'data_77.csv', 'data_761.csv', 'data_61.csv', 'data_992.csv', 'data_665.csv', 'data_906.csv', 'data_55.csv', 'data_273.csv', 'data_588.csv', 'data_345.csv', 'data_478.csv', 'data_60.csv', 'data_465.csv', 'data_958.csv', 'data_153.csv', 'data_679.csv', 'data_681.csv', 'data_402.csv', 'data_42.csv', 'data_955.csv', 'data_684.csv', 'data_653.csv', 'data_908.csv', 'data_26.csv', 'data_712.csv', 'data_971.csv', 'data_646.csv', 'data_966.csv', 'data_534.csv', 'data_266.csv', 'data_795.csv', 'data_25.csv', 'data_142.csv', 'data_432.csv', 'data_585.csv', 'data_990.csv', 'data_974.csv', 'data_597.csv', 'data_161.csv', 'data_80.csv', 'data_786.csv', 'data_281.csv', 'data_476.csv', 'data_671.csv', 'data_134.csv', 'data_31.csv', 'data_867.csv', 'data_262.csv', 'data_805.csv', 'data_315.csv', 'data_494.csv', 'data_330.csv', 'data_294.csv', 'data_442.csv', 'data_632.csv', 'data_510.csv', 'data_245.csv', 'data_4.csv', 'data_942.csv', 'data_383.csv', 'data_131.csv', 'data_988.csv', 'data_553.csv', 'data_866.csv', 'data_951.csv', 'data_650.csv', 'data_860.csv', 'data_997.csv', 'data_370.csv', 'data_108.csv', 'data_834.csv', 'data_654.csv', 'data_779.csv', 'data_925.csv', 'data_269.csv', 'data_399.csv', 'data_126.csv', 'data_256.csv', 'data_128.csv', 'data_304.csv', 'data_799.csv', 'data_813.csv', 'data_220.csv', 'data_413.csv', 'data_791.csv', 'data_998.csv', 'data_8.csv', 'data_221.csv', 'data_298.csv', 'data_892.csv', 'data_11.csv', 'data_127.csv', 'data_228.csv', 'data_898.csv', 'data_404.csv', 'data_565.csv', 'data_853.csv', 'data_729.csv', 'data_434.csv', 'data_183.csv', 'data_505.csv', 'data_163.csv', 'data_757.csv', 'data_276.csv', 'data_422.csv', 'data_103.csv', 'data_21.csv', 'data_398.csv', 'data_251.csv', 'data_2.csv', 'data_682.csv', 'data_336.csv', 'data_318.csv', 'data_897.csv', 'data_343.csv', 'data_663.csv', 'data_612.csv', 'data_815.csv', 'data_35.csv', 'data_865.csv', 'data_822.csv', 'data_692.csv', 'data_857.csv', 'data_926.csv', 'data_477.csv', 'data_433.csv', 'data_571.csv', 'data_711.csv', 'data_47.csv', 'data_191.csv', 'data_491.csv', 'data_630.csv', 'data_875.csv', 'data_629.csv', 'data_479.csv', 'data_889.csv', 'data_879.csv', 'data_62.csv', 'data_693.csv', 'data_58.csv', 'data_957.csv', 'data_50.csv', 'data_678.csv', 'data_348.csv', 'data_381.csv', 'data_515.csv', 'data_303.csv', 'data_902.csv', 'data_205.csv', 'data_529.csv', 'data_184.csv', 'data_368.csv', 'data_849.csv', 'data_92.csv', 'data_508.csv', 'data_63.csv', 'data_7.csv', 'data_323.csv', 'data_337.csv', 'data_29.csv', 'data_124.csv', 'data_159.csv', 'data_240.csv', 'data_547.csv', 'data_20.csv', 'data_828.csv', 'data_560.csv', 'data_643.csv', 'data_674.csv', 'data_359.csv', 'data_593.csv', 'data_763.csv', 'data_448.csv', 'data_667.csv', 'data_754.csv', 'data_166.csv', 'data_43.csv', 'data_64.csv', 'data_903.csv', 'data_771.csv', 'data_482.csv', 'data_531.csv', 'data_78.csv', 'data_246.csv', 'data_788.csv', 'data_868.csv', 'data_816.csv', 'data_634.csv', 'data_760.csv', 'data_772.csv', 'data_403.csv', 'data_790.csv', 'data_97.csv', 'data_439.csv', 'data_74.csv', 'data_871.csv', 'data_999.csv', 'data_129.csv', 'data_320.csv', 'data_545.csv', 'data_944.csv', 'data_94.csv', 'data_591.csv', 'data_100.csv', 'data_989.csv', 'data_237.csv', 'data_662.csv', 'data_130.csv', 'data_260.csv', 'data_212.csv', 'data_741.csv', 'data_800.csv', 'data_106.csv', 'data_501.csv', 'data_503.csv', 'data_538.csv', 'data_297.csv', 'data_110.csv', 'data_242.csv', 'data_848.csv', 'data_921.csv', 'data_697.csv', 'data_259.csv', 'data_789.csv', 'data_148.csv', 'data_631.csv', 'data_751.csv', 'data_341.csv', 'data_546.csv', 'data_353.csv', 'data_193.csv', 'data_119.csv', 'data_135.csv', 'data_615.csv', 'data_152.csv', 'data_792.csv', 'data_195.csv', 'data_373.csv', 'data_141.csv', 'data_9.csv', 'data_708.csv', 'data_512.csv', 'data_912.csv', 'data_18.csv', 'data_180.csv', 'data_203.csv', 'data_421.csv', 'data_285.csv', 'data_365.csv', 'data_107.csv', 'data_252.csv', 'data_197.csv', 'data_377.csv', 'data_886.csv', 'data_274.csv', 'data_104.csv', 'data_664.csv', 'data_775.csv', 'data_177.csv', 'data_486.csv', 'data_392.csv', 'data_842.csv', 'data_525.csv', 'data_95.csv', 'data_82.csv', 'data_979.csv', 'data_244.csv', 'data_688.csv', 'data_230.csv', 'data_548.csv', 'data_934.csv', 'data_85.csv', 'data_215.csv', 'data_894.csv', 'data_774.csv', 'data_250.csv', 'data_845.csv', 'data_922.csv', 'data_719.csv', 'data_521.csv', 'data_613.csv', 'data_360.csv', 'data_978.csv', 'data_400.csv', 'data_493.csv', 'data_391.csv', 'data_838.csv', 'data_91.csv', 'data_132.csv', 'data_79.csv', 'data_156.csv', 'data_498.csv', 'data_172.csv', 'data_114.csv', 'data_238.csv', 'data_767.csv', 'data_248.csv', 'data_773.csv', 'data_528.csv', 'data_438.csv', 'data_239.csv', 'data_570.csv', 'data_941.csv', 'data_410.csv', 'data_496.csv', 'data_280.csv', 'data_57.csv', 'data_147.csv', '.DS_Store', 'data_376.csv', 'data_411.csv', 'data_981.csv', 'data_30.csv', 'data_607.csv', 'data_620.csv', 'data_378.csv', 'data_551.csv', 'data_70.csv', 'data_797.csv', 'data_753.csv', 'data_257.csv', 'data_701.csv', 'data_762.csv', 'data_136.csv', 'data_619.csv', 'data_673.csv', 'data_387.csv', 'data_835.csv', 'data_606.csv', 'data_363.csv', 'data_222.csv', 'data_798.csv', 'data_913.csv', 'data_627.csv', 'data_90.csv', 'data_401.csv', 'data_120.csv', 'data_102.csv', 'data_649.csv', 'data_386.csv', 'data_306.csv', 'data_41.csv', 'data_747.csv', 'data_84.csv', 'data_88.csv', 'data_907.csv', 'data_928.csv', 'data_642.csv', 'data_851.csv', 'data_186.csv', 'data_54.csv', 'data_587.csv', 'data_752.csv', 'data_349.csv', 'data_552.csv', 'data_584.csv', 'data_960.csv', 'data_301.csv', 'data_755.csv', 'data_915.csv', 'data_965.csv', 'data_227.csv', 'data_187.csv', 'data_283.csv', 'data_290.csv', 'data_361.csv', 'data_418.csv', 'data_533.csv', 'data_759.csv', 'data_168.csv', 'data_279.csv', 'data_724.csv', 'data_856.csv', 'data_986.csv', 'data_340.csv', 'data_893.csv', 'data_19.csv', 'data_218.csv', 'data_324.csv', 'data_347.csv', 'data_475.csv', 'data_474.csv', 'data_930.csv', 'data_722.csv', 'data_338.csv', 'data_379.csv', 'data_322.csv', 'data_194.csv', 'data_502.csv', 'data_721.csv', 'data_578.csv', 'data_462.csv', 'data_555.csv', 'data_176.csv', 'data_648.csv', 'data_444.csv', 'data_781.csv', 'data_3.csv', 'data_514.csv', 'data_599.csv', 'data_901.csv', 'data_554.csv', 'data_735.csv', 'data_217.csv', 'data_429.csv', 'data_507.csv', 'data_743.csv', 'data_793.csv', 'data_293.csv', 'data_185.csv', 'data_802.csv', 'data_804.csv', 'data_28.csv', 'data_384.csv', 'data_576.csv', 'data_188.csv', 'data_683.csv', 'data_984.csv', 'data_623.csv', 'data_707.csv', 'data_883.csv', 'data_995.csv', 'data_540.csv', 'data_258.csv', 'data_878.csv', 'data_511.csv', 'data_443.csv', 'data_5.csv', 'data_331.csv', 'data_973.csv', 'data_160.csv', 'data_557.csv', 'data_229.csv', 'data_254.csv', 'data_380.csv', 'data_963.csv', 'data_459.csv', 'data_904.csv', 'data_109.csv', 'data_456.csv', 'data_669.csv', 'data_905.csv', 'data_698.csv', 'data_122.csv', 'data_504.csv', 'data_826.csv', 'data_344.csv', 'data_610.csv', 'data_728.csv', 'data_939.csv', 'data_412.csv', 'data_841.csv', 'data_81.csv', 'data_37.csv', 'data_414.csv', 'data_943.csv', 'data_382.csv', 'data_862.csv', 'data_742.csv', 'data_394.csv', 'data_803.csv', 'data_232.csv', 'data_935.csv', 'data_216.csv', 'data_310.csv', 'data_637.csv', 'data_746.csv', 'data_339.csv', 'data_192.csv', 'data_530.csv', 'data_526.csv', 'data_13.csv', 'data_52.csv', 'data_586.csv', 'data_595.csv', 'data_17.csv', 'data_639.csv', 'data_291.csv', 'data_689.csv', 'data_356.csv', 'data_483.csv', 'data_977.csv', 'data_661.csv', 'data_609.csv', 'data_436.csv', 'data_603.csv', 'data_668.csv', 'data_945.csv', 'data_406.csv', 'data_817.csv', 'data_727.csv', 'data_756.csv', 'data_233.csv', 'data_305.csv', 'data_833.csv', 'data_270.csv', 'data_461.csv', 'data_24.csv', 'data_198.csv', 'data_880.csv', 'data_705.csv', 'data_286.csv', 'data_589.csv', 'data_558.csv', 'data_420.csv', 'data_542.csv', 'data_952.csv', 'data_666.csv', 'data_287.csv', 'data_716.csv', 'data_847.csv', 'data_888.csv', 'data_948.csv', 'data_737.csv', 'data_189.csv', 'data_811.csv', 'data_204.csv', 'data_388.csv', 'data_423.csv', 'data_890.csv', 'data_579.csv', 'data_396.csv', 'data_45.csv', 'data_590.csv', 'data_807.csv', 'data_598.csv', 'data_651.csv', 'data_518.csv', 'data_454.csv', 'data_659.csv', 'data_940.csv', 'data_527.csv', 'data_440.csv', 'data_329.csv', 'data_113.csv', 'data_208.csv', 'data_481.csv', 'data_121.csv', 'data_415.csv', 'data_730.csv', 'data_617.csv', 'data_801.csv', 'data_556.csv', 'data_12.csv', 'data_284.csv', 'data_105.csv', 'data_864.csv', 'data_196.csv', 'data_870.csv', 'data_645.csv', 'data_723.csv', 'data_170.csv', 'data_241.csv', 'data_700.csv', 'data_687.csv', 'data_695.csv', 'data_140.csv', 'data_312.csv', 'data_327.csv', 'data_858.csv', 'data_265.csv', 'data_592.csv', 'data_471.csv', 'data_583.csv', 'data_15.csv', 'data_367.csv', 'data_397.csv', 'data_358.csv', 'data_362.csv', 'data_821.csv', 'data_918.csv', 'data_118.csv', 'data_40.csv', 'data_776.csv', 'data_950.csv', 'data_522.csv', 'data_335.csv', 'data_539.csv', 'data_594.csv', 'data_895.csv', 'data_569.csv', 'data_690.csv', 'data_207.csv', 'data_460.csv', 'data_23.csv', 'data_837.csv', 'data_151.csv', 'data_969.csv', 'data_487.csv', 'data_709.csv', 'data_390.csv', 'data_295.csv', 'data_39.csv', 'data_485.csv', 'data_157.csv', 'data_855.csv', 'data_277.csv', 'data_22.csv', 'data_1.csv', 'data_814.csv', 'data_366.csv', 'data_427.csv', 'data_375.csv', 'data_581.csv', 'data_211.csv', 'data_407.csv', 'data_970.csv', 'data_859.csv', 'data_452.csv', 'data_750.csv', 'data_765.csv', 'data_226.csv', 'data_311.csv', 'data_352.csv', 'data_308.csv', 'data_453.csv', 'data_497.csv', 'data_550.csv', 'data_640.csv', 'data_580.csv', 'data_115.csv', 'data_932.csv', 'data_982.csv', 'data_374.csv', 'data_794.csv', 'data_818.csv', 'data_976.csv', 'data_686.csv', 'data_523.csv', 'data_225.csv', 'data_267.csv', 'data_566.csv', 'data_69.csv', 'data_137.csv', 'data_116.csv', 'data_235.csv', 'data_125.csv', 'data_350.csv', 'data_524.csv', 'data_169.csv', 'data_820.csv', 'data_236.csv', 'data_253.csv', 'data_480.csv', 'data_885.csv', 'data_975.csv', 'data_519.csv', 'data_927.csv', 'data_101.csv', 'data_985.csv', 'data_249.csv', 'data_164.csv', 'data_778.csv', 'data_36.csv', 'data_600.csv', 'data_568.csv', 'data_71.csv', 'data_823.csv', 'data_909.csv', 'data_830.csv', 'data_75.csv', 'data_174.csv', 'data_954.csv', 'data_962.csv', 'data_14.csv', 'data_831.csv', 'data_372.csv', 'data_509.csv', 'data_564.csv', 'data_437.csv', 'data_677.csv', 'data_812.csv', 'data_726.csv', 'data_717.csv', 'data_733.csv', 'data_334.csv', 'data_27.csv', 'data_328.csv', 'data_473.csv', 'data_435.csv', 'data_937.csv', 'data_544.csv', 'data_956.csv', 'data_1000.csv', 'data_655.csv', 'data_644.csv', 'data_517.csv', 'data_770.csv', 'data_572.csv', 'data_490.csv', 'data_745.csv', 'data_317.csv', 'data_785.csv', 'data_713.csv', 'data_806.csv', 'data_854.csv', 'data_296.csv', 'data_492.csv', 'data_357.csv', 'data_641.csv', 'data_426.csv', 'data_561.csv', 'data_87.csv', 'data_946.csv', 'data_843.csv', 'data_891.csv', 'data_299.csv', 'data_96.csv', 'data_694.csv', 'data_314.csv', 'data_49.csv', 'data_602.csv', 'data_738.csv', 'data_355.csv', 'data_625.csv', 'data_715.csv', 'data_261.csv', 'data_500.csv', 'data_929.csv', 'data_326.csv', 'data_409.csv', 'data_325.csv', 'data_796.csv', 'data_783.csv', 'data_234.csv', 'data_464.csv', 'data_702.csv', 'data_896.csv', 'data_385.csv', 'data_809.csv', 'data_44.csv', 'data_836.csv', 'data_431.csv', 'data_38.csv', 'data_288.csv', 'data_282.csv', 'data_657.csv', 'data_549.csv', 'data_66.csv', 'data_658.csv', 'data_749.csv', 'data_876.csv', 'data_162.csv', 'data_744.csv', 'data_395.csv', 'data_219.csv', 'data_819.csv', 'data_840.csv', 'data_983.csv', 'data_133.csv', 'data_6.csv', 'data_852.csv', 'data_154.csv', 'data_699.csv', 'data_541.csv', 'data_740.csv', 'data_351.csv', 'data_430.csv', 'data_393.csv', 'data_628.csv', 'data_787.csv', 'data_920.csv', 'data_923.csv', 'data_56.csv', 'data_455.csv', 'data_278.csv', 'data_780.csv', 'data_567.csv', 'data_846.csv', 'data_872.csv', 'data_408.csv', 'data_489.csv', 'data_714.csv', 'data_179.csv', 'data_138.csv', 'data_146.csv', 'data_577.csv', 'data_466.csv', 'data_675.csv', 'data_748.csv', 'data_68.csv', 'data_869.csv', 'data_691.csv', 'data_321.csv', 'data_371.csv', 'data_10.csv', 'data_255.csv', 'data_626.csv', 'data_768.csv', 'data_972.csv', 'data_703.csv', 'data_428.csv', 'data_829.csv', 'data_520.csv', 'data_938.csv', 'data_33.csv', 'data_953.csv', 'data_469.csv', 'data_656.csv', 'data_424.csv', 'data_900.csv', 'data_425.csv', 'data_536.csv', 'data_652.csv', 'data_563.csv', 'data_72.csv', 'data_472.csv', 'data_99.csv', 'data_782.csv', 'data_416.csv', 'data_968.csv', 'data_573.csv', 'data_874.csv', 'data_622.csv', 'data_949.csv', 'data_112.csv', 'data_467.csv', 'data_596.csv', 'data_850.csv', 'data_302.csv', 'data_458.csv', 'data_672.csv', 'data_213.csv', 'data_825.csv', 'data_150.csv', 'data_275.csv', 'data_516.csv', 'data_559.csv', 'data_181.csv', 'data_604.csv', 'data_680.csv', 'data_887.csv', 'data_319.csv', 'data_959.csv', 'data_873.csv', 'data_919.csv', 'data_488.csv', 'data_210.csv', 'data_405.csv', 'data_601.csv', 'data_332.csv', 'data_562.csv', 'data_636.csv', 'data_618.csv', 'data_718.csv', 'data_766.csv', 'data_991.csv', 'data_243.csv', 'data_725.csv', 'data_861.csv', 'data_582.csv', 'data_947.csv', 'data_450.csv', 'data_967.csv', 'data_621.csv', 'data_342.csv', 'data_575.csv', 'data_76.csv', 'data_731.csv', 'data_696.csv', 'data_178.csv', 'data_67.csv', 'data_980.csv', 'data_704.csv', 'data_143.csv', 'data_882.csv', 'data_369.csv'], 'default_runtime_data_connector_name': ['my_runtime_asset_name']}, 'black_friday': {'default_inferred_data_connector_name': ['data_605.csv', 'data_333.csv', 'data_732.csv', 'data_784.csv', 'data_987.csv', 'data_447.csv', 'data_660.csv', 'data_964.csv', 'data_117.csv', 'data_313.csv', 'data_389.csv', 'data_86.csv', 'data_223.csv', 'data_364.csv', 'data_624.csv', 'data_173.csv', 'data_59.csv', 'data_685.csv', 'data_155.csv', 'data_764.csv', 'data_93.csv', 'data_98.csv', 'data_936.csv', 'data_417.csv', 'data_309.csv', 'data_214.csv', 'data_961.csv', 'data_739.csv', 'data_827.csv', 'data_706.csv', 'data_777.csv', 'data_89.csv', 'data_996.csv', 'data_769.csv', 'data_200.csv', 'data_914.csv', 'data_647.csv', 'data_670.csv', 'data_911.csv', 'data_574.csv', 'data_463.csv', 'data_123.csv', 'data_16.csv', 'data_537.csv', 'data_924.csv', 'data_910.csv', 'data_457.csv', 'data_202.csv', 'data_470.csv', 'data_611.csv', 'data_32.csv', 'data_139.csv', 'data_499.csv', 'data_145.csv', 'data_175.csv', 'data_877.csv', 'data_199.csv', 'data_34.csv', 'data_346.csv', 'data_264.csv', 'data_149.csv', 'data_839.csv', 'data_863.csv', 'data_532.csv', 'data_441.csv', 'data_832.csv', 'data_917.csv', 'data_445.csv', 'data_720.csv', 'data_543.csv', 'data_676.csv', 'data_171.csv', 'data_710.csv', 'data_201.csv', 'data_209.csv', 'data_449.csv', 'data_165.csv', 'data_354.csv', 'data_881.csv', 'data_77.csv', 'data_761.csv', 'data_61.csv', 'data_992.csv', 'data_665.csv', 'data_906.csv', 'data_55.csv', 'data_273.csv', 'data_588.csv', 'data_345.csv', 'data_478.csv', 'data_60.csv', 'data_465.csv', 'data_958.csv', 'data_153.csv', 'data_679.csv', 'data_681.csv', 'data_402.csv', 'data_42.csv', 'data_955.csv', 'data_684.csv', 'data_653.csv', 'data_908.csv', 'data_26.csv', 'data_712.csv', 'data_971.csv', 'data_646.csv', 'data_966.csv', 'data_534.csv', 'data_266.csv', 'data_795.csv', 'data_25.csv', 'data_142.csv', 'data_432.csv', 'data_585.csv', 'data_990.csv', 'data_974.csv', 'data_597.csv', 'data_161.csv', 'data_80.csv', 'data_786.csv', 'data_281.csv', 'data_476.csv', 'data_671.csv', 'data_134.csv', 'data_31.csv', 'data_867.csv', 'data_262.csv', 'data_805.csv', 'data_315.csv', 'data_494.csv', 'data_330.csv', 'data_294.csv', 'data_442.csv', 'data_632.csv', 'data_510.csv', 'data_245.csv', 'data_4.csv', 'data_942.csv', 'data_383.csv', 'data_131.csv', 'data_988.csv', 'data_553.csv', 'data_866.csv', 'data_951.csv', 'data_650.csv', 'data_860.csv', 'data_997.csv', 'data_370.csv', 'data_108.csv', 'data_834.csv', 'data_654.csv', 'data_779.csv', 'data_925.csv', 'data_269.csv', 'data_399.csv', 'data_126.csv', 'data_256.csv', 'data_128.csv', 'data_304.csv', 'data_799.csv', 'data_813.csv', 'data_220.csv', 'data_413.csv', 'data_791.csv', 'data_998.csv', 'data_8.csv', 'data_221.csv', 'data_298.csv', 'data_892.csv', 'data_11.csv', 'data_127.csv', 'data_228.csv', 'data_898.csv', 'data_404.csv', 'data_565.csv', 'data_853.csv', 'data_729.csv', 'data_434.csv', 'data_183.csv', 'data_505.csv', 'data_163.csv', 'data_757.csv', 'data_276.csv', 'data_422.csv', 'data_103.csv', 'data_21.csv', 'data_398.csv', 'data_251.csv', 'data_2.csv', 'data_682.csv', 'data_336.csv', 'data_318.csv', 'data_897.csv', 'data_343.csv', 'data_663.csv', 'data_612.csv', 'data_815.csv', 'data_35.csv', 'data_865.csv', 'data_822.csv', 'data_692.csv', 'data_857.csv', 'data_926.csv', 'data_477.csv', 'data_433.csv', 'data_571.csv', 'data_711.csv', 'data_47.csv', 'data_191.csv', 'data_491.csv', 'data_630.csv', 'data_875.csv', 'data_629.csv', 'data_479.csv', 'data_889.csv', 'data_879.csv', 'data_62.csv', 'data_693.csv', 'data_58.csv', 'data_957.csv', 'data_50.csv', 'data_678.csv', 'data_348.csv', 'data_381.csv', 'data_515.csv', 'data_303.csv', 'data_902.csv', 'data_205.csv', 'data_529.csv', 'data_184.csv', 'data_368.csv', 'data_849.csv', 'data_92.csv', 'data_508.csv', 'data_63.csv', 'data_7.csv', 'data_323.csv', 'data_337.csv', 'data_29.csv', 'data_124.csv', 'data_159.csv', 'data_240.csv', 'data_547.csv', 'data_20.csv', 'data_828.csv', 'data_560.csv', 'data_643.csv', 'data_674.csv', 'data_359.csv', 'data_593.csv', 'data_763.csv', 'data_448.csv', 'data_667.csv', 'data_754.csv', 'data_166.csv', 'data_43.csv', 'data_64.csv', 'data_903.csv', 'data_771.csv', 'data_482.csv', 'data_531.csv', 'data_78.csv', 'data_246.csv', 'data_788.csv', 'data_868.csv', 'data_816.csv', 'data_634.csv', 'data_760.csv', 'data_772.csv', 'data_403.csv', 'data_790.csv', 'data_97.csv', 'data_439.csv', 'data_74.csv', 'data_871.csv', 'data_999.csv', 'data_129.csv', 'data_320.csv', 'data_545.csv', 'data_944.csv', 'data_94.csv', 'data_591.csv', 'data_100.csv', 'data_989.csv', 'data_237.csv', 'data_662.csv', 'data_130.csv', 'data_260.csv', 'data_212.csv', 'data_741.csv', 'data_800.csv', 'data_106.csv', 'data_501.csv', 'data_503.csv', 'data_538.csv', 'data_297.csv', 'data_110.csv', 'data_242.csv', 'data_848.csv', 'data_921.csv', 'data_697.csv', 'data_259.csv', 'data_789.csv', 'data_148.csv', 'data_631.csv', 'data_751.csv', 'data_341.csv', 'data_546.csv', 'data_353.csv', 'data_193.csv', 'data_119.csv', 'data_135.csv', 'data_615.csv', 'data_152.csv', 'data_792.csv', 'data_195.csv', 'data_373.csv', 'data_141.csv', 'data_9.csv', 'data_708.csv', 'data_512.csv', 'data_912.csv', 'data_18.csv', 'data_180.csv', 'data_203.csv', 'data_421.csv', 'data_285.csv', 'data_365.csv', 'data_107.csv', 'data_252.csv', 'data_197.csv', 'data_377.csv', 'data_886.csv', 'data_274.csv', 'data_104.csv', 'data_664.csv', 'data_775.csv', 'data_177.csv', 'data_486.csv', 'data_392.csv', 'data_842.csv', 'data_525.csv', 'data_95.csv', 'data_82.csv', 'data_979.csv', 'data_244.csv', 'data_688.csv', 'data_230.csv', 'data_548.csv', 'data_934.csv', 'data_85.csv', 'data_215.csv', 'data_894.csv', 'data_774.csv', 'data_250.csv', 'data_845.csv', 'data_922.csv', 'data_719.csv', 'data_521.csv', 'data_613.csv', 'data_360.csv', 'data_978.csv', 'data_400.csv', 'data_493.csv', 'data_391.csv', 'data_838.csv', 'data_91.csv', 'data_132.csv', 'data_79.csv', 'data_156.csv', 'data_498.csv', 'data_172.csv', 'data_114.csv', 'data_238.csv', 'data_767.csv', 'data_248.csv', 'data_773.csv', 'data_528.csv', 'data_438.csv', 'data_239.csv', 'data_570.csv', 'data_941.csv', 'data_410.csv', 'data_496.csv', 'data_280.csv', 'data_57.csv', 'data_147.csv', '.DS_Store', 'data_376.csv', 'data_411.csv', 'data_981.csv', 'data_30.csv', 'data_607.csv', 'data_620.csv', 'data_378.csv', 'data_551.csv', 'data_70.csv', 'data_797.csv', 'data_753.csv', 'data_257.csv', 'data_701.csv', 'data_762.csv', 'data_136.csv', 'data_619.csv', 'data_673.csv', 'data_387.csv', 'data_835.csv', 'data_606.csv', 'data_363.csv', 'data_222.csv', 'data_798.csv', 'data_913.csv', 'data_627.csv', 'data_90.csv', 'data_401.csv', 'data_120.csv', 'data_102.csv', 'data_649.csv', 'data_386.csv', 'data_306.csv', 'data_41.csv', 'data_747.csv', 'data_84.csv', 'data_88.csv', 'data_907.csv', 'data_928.csv', 'data_642.csv', 'data_851.csv', 'data_186.csv', 'data_54.csv', 'data_587.csv', 'data_752.csv', 'data_349.csv', 'data_552.csv', 'data_584.csv', 'data_960.csv', 'data_301.csv', 'data_755.csv', 'data_915.csv', 'data_965.csv', 'data_227.csv', 'data_187.csv', 'data_283.csv', 'data_290.csv', 'data_361.csv', 'data_418.csv', 'data_533.csv', 'data_759.csv', 'data_168.csv', 'data_279.csv', 'data_724.csv', 'data_856.csv', 'data_986.csv', 'data_340.csv', 'data_893.csv', 'data_19.csv', 'data_218.csv', 'data_324.csv', 'data_347.csv', 'data_475.csv', 'data_474.csv', 'data_930.csv', 'data_722.csv', 'data_338.csv', 'data_379.csv', 'data_322.csv', 'data_194.csv', 'data_502.csv', 'data_721.csv', 'data_578.csv', 'data_462.csv', 'data_555.csv', 'data_176.csv', 'data_648.csv', 'data_444.csv', 'data_781.csv', 'data_3.csv', 'data_514.csv', 'data_599.csv', 'data_901.csv', 'data_554.csv', 'data_735.csv', 'data_217.csv', 'data_429.csv', 'data_507.csv', 'data_743.csv', 'data_793.csv', 'data_293.csv', 'data_185.csv', 'data_802.csv', 'data_804.csv', 'data_28.csv', 'data_384.csv', 'data_576.csv', 'data_188.csv', 'data_683.csv', 'data_984.csv', 'data_623.csv', 'data_707.csv', 'data_883.csv', 'data_995.csv', 'data_540.csv', 'data_258.csv', 'data_878.csv', 'data_511.csv', 'data_443.csv', 'data_5.csv', 'data_331.csv', 'data_973.csv', 'data_160.csv', 'data_557.csv', 'data_229.csv', 'data_254.csv', 'data_380.csv', 'data_963.csv', 'data_459.csv', 'data_904.csv', 'data_109.csv', 'data_456.csv', 'data_669.csv', 'data_905.csv', 'data_698.csv', 'data_122.csv', 'data_504.csv', 'data_826.csv', 'data_344.csv', 'data_610.csv', 'data_728.csv', 'data_939.csv', 'data_412.csv', 'data_841.csv', 'data_81.csv', 'data_37.csv', 'data_414.csv', 'data_943.csv', 'data_382.csv', 'data_862.csv', 'data_742.csv', 'data_394.csv', 'data_803.csv', 'data_232.csv', 'data_935.csv', 'data_216.csv', 'data_310.csv', 'data_637.csv', 'data_746.csv', 'data_339.csv', 'data_192.csv', 'data_530.csv', 'data_526.csv', 'data_13.csv', 'data_52.csv', 'data_586.csv', 'data_595.csv', 'data_17.csv', 'data_639.csv', 'data_291.csv', 'data_689.csv', 'data_356.csv', 'data_483.csv', 'data_977.csv', 'data_661.csv', 'data_609.csv', 'data_436.csv', 'data_603.csv', 'data_668.csv', 'data_945.csv', 'data_406.csv', 'data_817.csv', 'data_727.csv', 'data_756.csv', 'data_233.csv', 'data_305.csv', 'data_833.csv', 'data_270.csv', 'data_461.csv', 'data_24.csv', 'data_198.csv', 'data_880.csv', 'data_705.csv', 'data_286.csv', 'data_589.csv', 'data_558.csv', 'data_420.csv', 'data_542.csv', 'data_952.csv', 'data_666.csv', 'data_287.csv', 'data_716.csv', 'data_847.csv', 'data_888.csv', 'data_948.csv', 'data_737.csv', 'data_189.csv', 'data_811.csv', 'data_204.csv', 'data_388.csv', 'data_423.csv', 'data_890.csv', 'data_579.csv', 'data_396.csv', 'data_45.csv', 'data_590.csv', 'data_807.csv', 'data_598.csv', 'data_651.csv', 'data_518.csv', 'data_454.csv', 'data_659.csv', 'data_940.csv', 'data_527.csv', 'data_440.csv', 'data_329.csv', 'data_113.csv', 'data_208.csv', 'data_481.csv', 'data_121.csv', 'data_415.csv', 'data_730.csv', 'data_617.csv', 'data_801.csv', 'data_556.csv', 'data_12.csv', 'data_284.csv', 'data_105.csv', 'data_864.csv', 'data_196.csv', 'data_870.csv', 'data_645.csv', 'data_723.csv', 'data_170.csv', 'data_241.csv', 'data_700.csv', 'data_687.csv', 'data_695.csv', 'data_140.csv', 'data_312.csv', 'data_327.csv', 'data_858.csv', 'data_265.csv', 'data_592.csv', 'data_471.csv', 'data_583.csv', 'data_15.csv', 'data_367.csv', 'data_397.csv', 'data_358.csv', 'data_362.csv', 'data_821.csv', 'data_918.csv', 'data_118.csv', 'data_40.csv', 'data_776.csv', 'data_950.csv', 'data_522.csv', 'data_335.csv', 'data_539.csv', 'data_594.csv', 'data_895.csv', 'data_569.csv', 'data_690.csv', 'data_207.csv', 'data_460.csv', 'data_23.csv', 'data_837.csv', 'data_151.csv', 'data_969.csv', 'data_487.csv', 'data_709.csv', 'data_390.csv', 'data_295.csv', 'data_39.csv', 'data_485.csv', 'data_157.csv', 'data_855.csv', 'data_277.csv', 'data_22.csv', 'data_1.csv', 'data_814.csv', 'data_366.csv', 'data_427.csv', 'data_375.csv', 'data_581.csv', 'data_211.csv', 'data_407.csv', 'data_970.csv', 'data_859.csv', 'data_452.csv', 'data_750.csv', 'data_765.csv', 'data_226.csv', 'data_311.csv', 'data_352.csv', 'data_308.csv', 'data_453.csv', 'data_497.csv', 'data_550.csv', 'data_640.csv', 'data_580.csv', 'data_115.csv', 'data_932.csv', 'data_982.csv', 'data_374.csv', 'data_794.csv', 'data_818.csv', 'data_976.csv', 'data_686.csv', 'data_523.csv', 'data_225.csv', 'data_267.csv', 'data_566.csv', 'data_69.csv', 'data_137.csv', 'data_116.csv', 'data_235.csv', 'data_125.csv', 'data_350.csv', 'data_524.csv', 'data_169.csv', 'data_820.csv', 'data_236.csv', 'data_253.csv', 'data_480.csv', 'data_885.csv', 'data_975.csv', 'data_519.csv', 'data_927.csv', 'data_101.csv', 'data_985.csv', 'data_249.csv', 'data_164.csv', 'data_778.csv', 'data_36.csv', 'data_600.csv', 'data_568.csv', 'data_71.csv', 'data_823.csv', 'data_909.csv', 'data_830.csv', 'data_75.csv', 'data_174.csv', 'data_954.csv', 'data_962.csv', 'data_14.csv', 'data_831.csv', 'data_372.csv', 'data_509.csv', 'data_564.csv', 'data_437.csv', 'data_677.csv', 'data_812.csv', 'data_726.csv', 'data_717.csv', 'data_733.csv', 'data_334.csv', 'data_27.csv', 'data_328.csv', 'data_473.csv', 'data_435.csv', 'data_937.csv', 'data_544.csv', 'data_956.csv', 'data_1000.csv', 'data_655.csv', 'data_644.csv', 'data_517.csv', 'data_770.csv', 'data_572.csv', 'data_490.csv', 'data_745.csv', 'data_317.csv', 'data_785.csv', 'data_713.csv', 'data_806.csv', 'data_854.csv', 'data_296.csv', 'data_492.csv', 'data_357.csv', 'data_641.csv', 'data_426.csv', 'data_561.csv', 'data_87.csv', 'data_946.csv', 'data_843.csv', 'data_891.csv', 'data_299.csv', 'data_96.csv', 'data_694.csv', 'data_314.csv', 'data_49.csv', 'data_602.csv', 'data_738.csv', 'data_355.csv', 'data_625.csv', 'data_715.csv', 'data_261.csv', 'data_500.csv', 'data_929.csv', 'data_326.csv', 'data_409.csv', 'data_325.csv', 'data_796.csv', 'data_783.csv', 'data_234.csv', 'data_464.csv', 'data_702.csv', 'data_896.csv', 'data_385.csv', 'data_809.csv', 'data_44.csv', 'data_836.csv', 'data_431.csv', 'data_38.csv', 'data_288.csv', 'data_282.csv', 'data_657.csv', 'data_549.csv', 'data_66.csv', 'data_658.csv', 'data_749.csv', 'data_876.csv', 'data_162.csv', 'data_744.csv', 'data_395.csv', 'data_219.csv', 'data_819.csv', 'data_840.csv', 'data_983.csv', 'data_133.csv', 'data_6.csv', 'data_852.csv', 'data_154.csv', 'data_699.csv', 'data_541.csv', 'data_740.csv', 'data_351.csv', 'data_430.csv', 'data_393.csv', 'data_628.csv', 'data_787.csv', 'data_920.csv', 'data_923.csv', 'data_56.csv', 'data_455.csv', 'data_278.csv', 'data_780.csv', 'data_567.csv', 'data_846.csv', 'data_872.csv', 'data_408.csv', 'data_489.csv', 'data_714.csv', 'data_179.csv', 'data_138.csv', 'data_146.csv', 'data_577.csv', 'data_466.csv', 'data_675.csv', 'data_748.csv', 'data_68.csv', 'data_869.csv', 'data_691.csv', 'data_321.csv', 'data_371.csv', 'data_10.csv', 'data_255.csv', 'data_626.csv', 'data_768.csv', 'data_972.csv', 'data_703.csv', 'data_428.csv', 'data_829.csv', 'data_520.csv', 'data_938.csv', 'data_33.csv', 'data_953.csv', 'data_469.csv', 'data_656.csv', 'data_424.csv', 'data_900.csv', 'data_425.csv', 'data_536.csv', 'data_652.csv', 'data_563.csv', 'data_72.csv', 'data_472.csv', 'data_99.csv', 'data_782.csv', 'data_416.csv', 'data_968.csv', 'data_573.csv', 'data_874.csv', 'data_622.csv', 'data_949.csv', 'data_112.csv', 'data_467.csv', 'data_596.csv', 'data_850.csv', 'data_302.csv', 'data_458.csv', 'data_672.csv', 'data_213.csv', 'data_825.csv', 'data_150.csv', 'data_275.csv', 'data_516.csv', 'data_559.csv', 'data_181.csv', 'data_604.csv', 'data_680.csv', 'data_887.csv', 'data_319.csv', 'data_959.csv', 'data_873.csv', 'data_919.csv', 'data_488.csv', 'data_210.csv', 'data_405.csv', 'data_601.csv', 'data_332.csv', 'data_562.csv', 'data_636.csv', 'data_618.csv', 'data_718.csv', 'data_766.csv', 'data_991.csv', 'data_243.csv', 'data_725.csv', 'data_861.csv', 'data_582.csv', 'data_947.csv', 'data_450.csv', 'data_967.csv', 'data_621.csv', 'data_342.csv', 'data_575.csv', 'data_76.csv', 'data_731.csv', 'data_696.csv', 'data_178.csv', 'data_67.csv', 'data_980.csv', 'data_704.csv', 'data_143.csv', 'data_882.csv', 'data_369.csv']}}\n"
     ]
    }
   ],
   "execution_count": 5
  },
  {
   "cell_type": "markdown",
   "source": [
    "## Save Your Datasource Configuration\n",
    "Here we will save your Datasource in your Data Context once you are satisfied with the configuration. Note that `overwrite_existing` defaults to False, but you may change it to True if you wish to overwrite. Please note that if you wish to include comments you must add them directly to your `great_expectations.yml`."
   ],
   "metadata": {
    "collapsed": false
   },
   "id": "88fc3caf37b84006"
  },
  {
   "cell_type": "code",
   "source": [
    "sanitize_yaml_and_save_datasource(context, example_yaml, overwrite_existing=True)\n",
    "context.list_datasources()"
   ],
   "metadata": {
    "collapsed": false,
    "ExecuteTime": {
     "end_time": "2024-04-21T13:29:12.913599Z",
     "start_time": "2024-04-21T13:29:12.646665Z"
    }
   },
   "id": "db3c417daeadc41f",
   "outputs": [
    {
     "data": {
      "text/plain": [
       "[{'name': 'my_datasource',\n",
       "  'class_name': 'Datasource',\n",
       "  'module_name': 'great_expectations.datasource',\n",
       "  'execution_engine': {'class_name': 'PandasExecutionEngine',\n",
       "   'module_name': 'great_expectations.execution_engine'},\n",
       "  'data_connectors': {'default_inferred_data_connector_name': {'class_name': 'InferredAssetFilesystemDataConnector',\n",
       "    'module_name': 'great_expectations.datasource.data_connector',\n",
       "    'base_directory': '../data_raw/Ingestion',\n",
       "    'default_regex': {'group_names': ['data_asset_name'], 'pattern': '(.*)'}},\n",
       "   'default_runtime_data_connector_name': {'class_name': 'RuntimeDataConnector',\n",
       "    'module_name': 'great_expectations.datasource.data_connector',\n",
       "    'assets': {'my_runtime_asset_name': {'class_name': 'Asset',\n",
       "      'module_name': 'great_expectations.datasource.data_connector.asset',\n",
       "      'batch_identifiers': ['runtime_batch_identifier_name']}}}}},\n",
       " {'name': 'datasource',\n",
       "  'class_name': 'Datasource',\n",
       "  'module_name': 'great_expectations.datasource',\n",
       "  'execution_engine': {'class_name': 'PandasExecutionEngine',\n",
       "   'module_name': 'great_expectations.execution_engine'},\n",
       "  'data_connectors': {'default_inferred_data_connector_name': {'class_name': 'InferredAssetFilesystemDataConnector',\n",
       "    'module_name': 'great_expectations.datasource.data_connector',\n",
       "    'base_directory': '../data_raw/Ingestion',\n",
       "    'default_regex': {'group_names': ['data_asset_name'], 'pattern': '(.*)'}},\n",
       "   'default_runtime_data_connector_name': {'class_name': 'RuntimeDataConnector',\n",
       "    'module_name': 'great_expectations.datasource.data_connector',\n",
       "    'assets': {'my_runtime_asset_name': {'class_name': 'Asset',\n",
       "      'module_name': 'great_expectations.datasource.data_connector.asset',\n",
       "      'batch_identifiers': ['runtime_batch_identifier_name']}}}}},\n",
       " {'name': 'black_friday',\n",
       "  'class_name': 'Datasource',\n",
       "  'module_name': 'great_expectations.datasource',\n",
       "  'execution_engine': {'class_name': 'PandasExecutionEngine',\n",
       "   'module_name': 'great_expectations.execution_engine'},\n",
       "  'data_connectors': {'default_inferred_data_connector_name': {'class_name': 'InferredAssetFilesystemDataConnector',\n",
       "    'module_name': 'great_expectations.datasource.data_connector',\n",
       "    'base_directory': '../data_raw/Ingestion',\n",
       "    'default_regex': {'group_names': ['data_asset_name'],\n",
       "     'pattern': '(.*)'}}}}]"
      ]
     },
     "execution_count": 6,
     "metadata": {},
     "output_type": "execute_result"
    }
   ],
   "execution_count": 6
  },
  {
   "cell_type": "markdown",
   "id": "0cfbf1ad",
   "metadata": {},
   "source": [
    "Now you can close this notebook and delete it!"
   ]
  },
  {
   "cell_type": "code",
   "source": [],
   "metadata": {
    "collapsed": false,
    "ExecuteTime": {
     "end_time": "2024-04-21T13:29:12.920985Z",
     "start_time": "2024-04-21T13:29:12.916929Z"
    }
   },
   "id": "507da6a12614dd95",
   "outputs": [],
   "execution_count": 6
  },
  {
   "cell_type": "code",
   "source": [],
   "metadata": {
    "collapsed": false,
    "ExecuteTime": {
     "end_time": "2024-04-21T13:29:12.927283Z",
     "start_time": "2024-04-21T13:29:12.923932Z"
    }
   },
   "id": "cdcdeb289f83e2c5",
   "outputs": [],
   "execution_count": 6
  }
 ],
 "metadata": {
  "kernelspec": {
   "name": "ml",
   "language": "python",
   "display_name": "ml"
  }
 },
 "nbformat": 4,
 "nbformat_minor": 5
}
